{
 "cells": [
  {
   "cell_type": "markdown",
   "id": "49d16768",
   "metadata": {},
   "source": [
    "# Heaps\n",
    "- A priority queue is an ADT, while a Heap is a DS which can implement a priority queue\n",
    "- Two kinds: max and min heap\n",
    "- Python's heapq differs from the standard implementation of a heap\n",
    "    1. Uses zero-based indexing: stores the root node at index zero instead of the size of the heap\n",
    "    2. Doesn't offer a native max heap implementation"
   ]
  },
  {
   "cell_type": "markdown",
   "id": "d25599dc",
   "metadata": {},
   "source": [
    "## Background"
   ]
  },
  {
   "cell_type": "code",
   "execution_count": 13,
   "id": "e1507099",
   "metadata": {},
   "outputs": [],
   "source": [
    "import heapq\n",
    "import math"
   ]
  },
  {
   "cell_type": "code",
   "execution_count": 6,
   "id": "6f266328",
   "metadata": {},
   "outputs": [
    {
     "name": "stdout",
     "output_type": "stream",
     "text": [
      "Min heap (native): [1, 2, 3, 4, 5]\n",
      "Max heap: [-5, -4, -3, -1, -2]\n"
     ]
    }
   ],
   "source": [
    "arr = [1, 2, 3, 4, 5]\n",
    "\n",
    "heapq.heapify(arr)\n",
    "print(f'Min heap (native): {arr}')\n",
    "\n",
    "arr = [-x for x in arr]\n",
    "heapq.heapify(arr)\n",
    "print(f'Max heap: {arr}')"
   ]
  },
  {
   "cell_type": "code",
   "execution_count": 8,
   "id": "02e25927",
   "metadata": {},
   "outputs": [
    {
     "name": "stdout",
     "output_type": "stream",
     "text": [
      "Top element of heap: 10\n"
     ]
    }
   ],
   "source": [
    "# Max heap\n",
    "heapq.heappush(arr, -1 * 10)\n",
    "\n",
    "print(f'Top element of heap: {-1 * arr[0]}')"
   ]
  },
  {
   "cell_type": "code",
   "execution_count": 10,
   "id": "cb0558ae",
   "metadata": {},
   "outputs": [
    {
     "data": {
      "text/plain": [
       "10"
      ]
     },
     "execution_count": 10,
     "metadata": {},
     "output_type": "execute_result"
    }
   ],
   "source": [
    "-1 * heapq.heappop(arr)"
   ]
  },
  {
   "cell_type": "markdown",
   "id": "ab20475a",
   "metadata": {},
   "source": [
    "## Min-Heap Implementation"
   ]
  },
  {
   "cell_type": "code",
   "execution_count": 11,
   "id": "b792b9e0",
   "metadata": {},
   "outputs": [],
   "source": [
    "# Implementing \"Min Heap\"\n",
    "class MinHeap:\n",
    "    def __init__(self, heapSize):\n",
    "        # Create a complete binary tree using an array\n",
    "        # Then use the binary tree to construct a Heap\n",
    "        self.heapSize = heapSize\n",
    "        # the number of elements is needed when instantiating an array\n",
    "        # heapSize records the size of the array\n",
    "        self.minheap = [0] * (heapSize + 1)\n",
    "        # realSize records the number of elements in the Heap\n",
    "        self.realSize = 0\n",
    "\n",
    "    # Function to add an element\n",
    "    def add(self, element):\n",
    "        self.realSize += 1\n",
    "        # If the number of elements in the Heap exceeds the preset heapSize\n",
    "        # print \"Added too many elements\" and return\n",
    "        if self.realSize > self.heapSize:\n",
    "            print(\"Added too many elements!\")\n",
    "            self.realSize -= 1\n",
    "            return\n",
    "        # Add the element into the array\n",
    "        self.minheap[self.realSize] = element\n",
    "        # Index of the newly added element\n",
    "        index = self.realSize\n",
    "        # Parent node of the newly added element\n",
    "        # Note if we use an array to represent the complete binary tree\n",
    "        # and store the root node at index 1\n",
    "        # index of the parent node of any node is [index of the node / 2]\n",
    "        # index of the left child node is [index of the node * 2]\n",
    "        # index of the right child node is [index of the node * 2 + 1]\n",
    "        parent = index // 2\n",
    "        # If the newly added element is smaller than its parent node,\n",
    "        # its value will be exchanged with that of the parent node \n",
    "        while (self.minheap[index] < self.minheap[parent] and index > 1):\n",
    "            self.minheap[parent], self.minheap[index] = self.minheap[index], self.minheap[parent]\n",
    "            index = parent\n",
    "            parent = index // 2\n",
    "    \n",
    "    # Get the top element of the Heap\n",
    "    def peek(self):\n",
    "        return self.minheap[1]\n",
    "    \n",
    "    # Delete the top element of the Heap\n",
    "    def pop(self):\n",
    "        # If the number of elements in the current Heap is 0,\n",
    "        # print \"Don't have any elements\" and return a default value\n",
    "        if self.realSize < 1:\n",
    "            print(\"Don't have any element!\")\n",
    "            return sys.maxsize\n",
    "        else:\n",
    "            # When there are still elements in the Heap\n",
    "            # self.realSize >= 1\n",
    "            removeElement = self.minheap[1]\n",
    "            # Put the last element in the Heap to the top of Heap\n",
    "            self.minheap[1] = self.minheap[self.realSize]\n",
    "            self.realSize -= 1\n",
    "            index = 1\n",
    "            # When the deleted element is not a leaf node\n",
    "            while (index <= self.realSize // 2):\n",
    "                # the left child of the deleted element\n",
    "                left = index * 2\n",
    "                # the right child of the deleted element\n",
    "                right = (index * 2) + 1\n",
    "                # If the deleted element is larger than the left or right child\n",
    "                # its value needs to be exchanged with the smaller value\n",
    "                # of the left and right child\n",
    "                if (self.minheap[index] > self.minheap[left] or self.minheap[index] > self.minheap[right]):\n",
    "                    if self.minheap[left] < self.minheap[right]:\n",
    "                        self.minheap[left], self.minheap[index] = self.minheap[index], self.minheap[left]\n",
    "                        index = left\n",
    "                    else:\n",
    "                        self.minheap[right], self.minheap[index] = self.minheap[index], self.minheap[right]\n",
    "                        index = right\n",
    "                else:\n",
    "                    break\n",
    "            return removeElement\n",
    "    \n",
    "    # return the number of elements in the Heap\n",
    "    def size(self):\n",
    "        return self.realSize\n",
    "    \n",
    "    def __str__(self):\n",
    "        return str(self.minheap[1 : self.realSize + 1])"
   ]
  },
  {
   "cell_type": "code",
   "execution_count": 12,
   "id": "34a2a018",
   "metadata": {},
   "outputs": [
    {
     "name": "stdout",
     "output_type": "stream",
     "text": [
      "[1, 3, 2]\n",
      "1\n",
      "1\n",
      "2\n",
      "3\n",
      "[4, 5]\n"
     ]
    }
   ],
   "source": [
    "minHeap = MinHeap(5)\n",
    "\n",
    "minHeap.add(3)\n",
    "minHeap.add(1)\n",
    "minHeap.add(2)\n",
    "\n",
    "# [1,3,2]\n",
    "print(minHeap)\n",
    "# 1\n",
    "print(minHeap.peek())\n",
    "# 1\n",
    "print(minHeap.pop())\n",
    "# 2\n",
    "print(minHeap.pop())\n",
    "# 3\n",
    "print(minHeap.pop())\n",
    "\n",
    "minHeap.add(4)\n",
    "minHeap.add(5)\n",
    "whi\n",
    "# [4,5]\n",
    "print(minHeap)"
   ]
  },
  {
   "cell_type": "markdown",
   "id": "3f85155c",
   "metadata": {},
   "source": [
    "## Common Applications\n",
    "- Heap sort\n",
    "- Top-K problem\n",
    "- K-th element"
   ]
  },
  {
   "cell_type": "code",
   "execution_count": 15,
   "id": "5fa7420e",
   "metadata": {},
   "outputs": [],
   "source": [
    "# Last Stone Weight\n",
    "## Pop two, if x == y destroy both else (y - x) added back\n",
    "def last_stone_weight(stones: list[int]) -> int:\n",
    "    stones.sort()\n",
    "    \n",
    "    while len(stones) > 1:\n",
    "        s1 = stones.pop()\n",
    "        s2 = stones.pop()\n",
    "        \n",
    "        if s1 != s2:\n",
    "            bisect.insort(stones, s1 - s2)\n",
    "            \n",
    "    return stones[0] if stones else 0"
   ]
  },
  {
   "cell_type": "code",
   "execution_count": 14,
   "id": "26aa1cd5",
   "metadata": {},
   "outputs": [],
   "source": [
    "# Custom Comparator\n",
    "def k_closest_point(points: list[list[int]], k: int) -> list[list[int]]:\n",
    "    points.sort(key=squared_distance)\n",
    "    \n",
    "    return points[:k]\n",
    "\n",
    "def squared_distance(point: list[int]) -> int:\n",
    "    return math.sqrt(point[0] ** 2 + point[1] ** 2) "
   ]
  },
  {
   "cell_type": "code",
   "execution_count": 16,
   "id": "6498415c",
   "metadata": {},
   "outputs": [],
   "source": [
    "# Minimum Num of Conference Rooms Needed\n",
    "def minMeetingRooms(intervals: list[list[int]]) -> int:\n",
    "    intervals.sort(key=lambda x: x[0])\n",
    "\n",
    "    # Only need to track when meetings end\n",
    "    h = [intervals[0][1]]\n",
    "    heapq.heapify(h)\n",
    "\n",
    "    maxer = 1\n",
    "\n",
    "    for start, end in intervals[1:]:\n",
    "        # Means that the new meeting is outside of the old meeting times window\n",
    "        while h and start >= h[0]:\n",
    "            heapq.heappop(h)\n",
    "\n",
    "        heapq.heappush(h, end)\n",
    "\n",
    "        maxer = max(maxer, len(h))\n",
    "\n",
    "    return maxerHeap"
   ]
  },
  {
   "cell_type": "code",
   "execution_count": null,
   "id": "0e2ff68e",
   "metadata": {},
   "outputs": [],
   "source": []
  }
 ],
 "metadata": {
  "kernelspec": {
   "display_name": "python3.12-kernel",
   "language": "python",
   "name": "python3.12-kernel"
  },
  "language_info": {
   "codemirror_mode": {
    "name": "ipython",
    "version": 3
   },
   "file_extension": ".py",
   "mimetype": "text/x-python",
   "name": "python",
   "nbconvert_exporter": "python",
   "pygments_lexer": "ipython3",
   "version": "3.12.3"
  }
 },
 "nbformat": 4,
 "nbformat_minor": 5
}
