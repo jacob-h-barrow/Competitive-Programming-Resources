{
 "cells": [
  {
   "cell_type": "code",
   "execution_count": 3,
   "id": "c6be2f8c",
   "metadata": {},
   "outputs": [
    {
     "ename": "ModuleNotFoundError",
     "evalue": "No module named 'polars'",
     "output_type": "error",
     "traceback": [
      "\u001b[0;31m---------------------------------------------------------------------------\u001b[0m",
      "\u001b[0;31mModuleNotFoundError\u001b[0m                       Traceback (most recent call last)",
      "\u001b[0;32m/tmp/ipykernel_33295/3377987580.py\u001b[0m in \u001b[0;36m<module>\u001b[0;34m\u001b[0m\n\u001b[1;32m      1\u001b[0m \u001b[0;32mfrom\u001b[0m \u001b[0mtyping\u001b[0m \u001b[0;32mimport\u001b[0m \u001b[0mNoReturn\u001b[0m\u001b[0;34m,\u001b[0m \u001b[0mTypeAlias\u001b[0m\u001b[0;34m,\u001b[0m \u001b[0mList\u001b[0m\u001b[0;34m,\u001b[0m \u001b[0mTuple\u001b[0m\u001b[0;34m,\u001b[0m \u001b[0mDict\u001b[0m\u001b[0;34m,\u001b[0m \u001b[0mAny\u001b[0m\u001b[0;34m\u001b[0m\u001b[0;34m\u001b[0m\u001b[0m\n\u001b[1;32m      2\u001b[0m \u001b[0;34m\u001b[0m\u001b[0m\n\u001b[0;32m----> 3\u001b[0;31m \u001b[0;32mimport\u001b[0m \u001b[0mpolars\u001b[0m \u001b[0;32mas\u001b[0m \u001b[0mpl\u001b[0m\u001b[0;34m\u001b[0m\u001b[0;34m\u001b[0m\u001b[0m\n\u001b[0m\u001b[1;32m      4\u001b[0m \u001b[0;32mimport\u001b[0m \u001b[0mnumpy\u001b[0m \u001b[0;32mas\u001b[0m \u001b[0mnp\u001b[0m\u001b[0;34m\u001b[0m\u001b[0;34m\u001b[0m\u001b[0m\n",
      "\u001b[0;31mModuleNotFoundError\u001b[0m: No module named 'polars'"
     ]
    }
   ],
   "source": [
    "from typing import NoReturn, TypeAlias, List, Tuple, Dict, Any\n",
    "\n",
    "import polars as pl\n",
    "import numpy as np"
   ]
  },
  {
   "cell_type": "code",
   "execution_count": 55,
   "id": "c26c40fd",
   "metadata": {},
   "outputs": [],
   "source": [
    "PRNG: TypeAlias = np.random._generator.Generator\n",
    "\n",
    "Dataframe_Data: TypeAlias = Dict[str, Any]\n",
    "\n",
    "Normal_Dataframe: TypeAlias = pl.dataframe.frame.DataFrame\n",
    "Lazy_Dataframe: TypeAlias = pl.lazyframe.frame.LazyFrame\n",
    "Dataframe: TypeAlias = Normal_Dataframe | Lazy_Dataframe\n",
    "\n",
    "Dataframe_Display: TypeAlias = str | NoReturn | Dataframe\n",
    "\n",
    "Type: TypeAlias = str\n",
    "Schema_Typed: TypeAlias = Dict[str, Type]\n",
    "\n",
    "Columns: TypeAlias = Tuple[str]\n",
    "Context_Operations: TypeAlias = str\n",
    "\n",
    "# Data_Typed: TypeAlias = Tuple[Type, Any]\n",
    "# Dataframe_Class_Init: TypeAlias = Dict[str, Data_Typed]"
   ]
  },
  {
   "cell_type": "code",
   "execution_count": 7,
   "id": "9d330274",
   "metadata": {},
   "outputs": [
    {
     "data": {
      "text/plain": [
       "numpy.random._generator.Generator"
      ]
     },
     "execution_count": 7,
     "metadata": {},
     "output_type": "execute_result"
    }
   ],
   "source": [
    "type(np.random.default_rng(seed=7))"
   ]
  },
  {
   "cell_type": "code",
   "execution_count": 13,
   "id": "5d010e8b",
   "metadata": {
    "scrolled": true
   },
   "outputs": [
    {
     "data": {
      "text/plain": [
       "polars.dataframe.frame.DataFrame"
      ]
     },
     "execution_count": 13,
     "metadata": {},
     "output_type": "execute_result"
    }
   ],
   "source": [
    "type(pl.DataFrame())"
   ]
  },
  {
   "cell_type": "code",
   "execution_count": 70,
   "id": "7577e94a",
   "metadata": {},
   "outputs": [
    {
     "data": {
      "text/plain": [
       "polars.lazyframe.frame.LazyFrame"
      ]
     },
     "execution_count": 70,
     "metadata": {},
     "output_type": "execute_result"
    }
   ],
   "source": [
    "type(pl.LazyFrame(buildings))"
   ]
  },
  {
   "cell_type": "code",
   "execution_count": 75,
   "id": "2d653440",
   "metadata": {},
   "outputs": [
    {
     "data": {
      "text/plain": [
       "polars.lazyframe.frame.LazyFrame"
      ]
     },
     "execution_count": 75,
     "metadata": {},
     "output_type": "execute_result"
    }
   ],
   "source": [
    "type(lazy_buildings)"
   ]
  },
  {
   "cell_type": "code",
   "execution_count": 76,
   "id": "d7e8704a",
   "metadata": {},
   "outputs": [
    {
     "data": {
      "text/plain": [
       "polars.lazyframe.frame.LazyFrame"
      ]
     },
     "execution_count": 76,
     "metadata": {},
     "output_type": "execute_result"
    }
   ],
   "source": [
    "type(lazy_query)"
   ]
  },
  {
   "cell_type": "markdown",
   "id": "80e5eec1",
   "metadata": {},
   "source": [
    "# Notes\n",
    "## Polars\n",
    "- The core DS used in Polars is the DataFrame\n",
    "    - A DataFrame is a two-dimensional data structure composed of rows and columns.\n",
    "    - The columns of a DataFrame are made up of series, which are one-dimensional labeled arrays.\n",
    "- Contexts and expressions are core components of Polars' data transformation syntax\n",
    "    - Expressions are computations/transformations performed on data columns\n",
    "    - A context is the environment which an expression is evaluated.\n",
    "        1. Selection: over columns\n",
    "        2. Filtering: extracts rows\n",
    "        3. Groupby/aggregation: computing over subgroups of the data\n",
    "        - Gist: selection grabs columns, filtering pares down the rows, and groupby/aggregation deals with the expression syntax over what's left \n",
    "    - Contexts are verbs and expressions are nouns. Or... expressions are the what when applying transformations, and the contexts are the how when preparing the environment/data, as well as, how the expressions will be executed. Remember that Polars is concurrent by design, contexts help broker how that works in the background.\n",
    "- All Polars expressions are optimized and run in parallel under the hood\n",
    "- Polars’ lazy API is one of the most powerful features of the library. With the lazy API, you can specify a sequence of operations without immediately running them. Instead, these operations are saved as a computational graph and only run when necessary. This allows Polars to optimize queries before execution, catch schema errors before the data is processed, and perform memory-efficient queries on datasets that don’t fit into memory.\n",
    "- LazyFrame\n",
    "    - Before you execute the query, you can inspect the query plan using the show_graph() method\n",
    "        - Does predicate pushdown, a Polars optimization that applies filters as early as possible\n",
    "        - The query plan cuts out things, to see the full diagram use the explain() method\n",
    "    - To execute a query you need to call the collect method\n",
    "- Polars can connect directly to a database and execute SQL queries."
   ]
  },
  {
   "cell_type": "markdown",
   "id": "a27ac683",
   "metadata": {},
   "source": [
    "## Numpy\n",
    "- To generate random numbers, you call default_rng() from NumPy’s random module. This returns a generator that can produce a variety of random numbers according to different probability distributions.\n",
    "    - Since version 1.17, NumPy uses the permuted congruential generator-64 (PCG64) algorithm to generate random numbers.\n",
    "    - PCG64 is more efficient and produces less predictable numbers"
   ]
  },
  {
   "cell_type": "code",
   "execution_count": 10,
   "id": "a5ac75d9",
   "metadata": {},
   "outputs": [],
   "source": [
    "def set_random(seed: int) -> PRNG:\n",
    "    return np.random.default_rng(seed=seed)"
   ]
  },
  {
   "cell_type": "code",
   "execution_count": 82,
   "id": "e0d7b96f",
   "metadata": {},
   "outputs": [
    {
     "data": {
      "text/html": [
       "<div><style>\n",
       ".dataframe > thead > tr,\n",
       ".dataframe > tbody > tr {\n",
       "  text-align: right;\n",
       "  white-space: pre-wrap;\n",
       "}\n",
       "</style>\n",
       "<small>shape: (5, 2)</small><table border=\"1\" class=\"dataframe\"><thead><tr><th>A</th><th>B</th></tr><tr><td>i64</td><td>i64</td></tr></thead><tbody><tr><td>1</td><td>6</td></tr><tr><td>2</td><td>7</td></tr><tr><td>3</td><td>8</td></tr><tr><td>4</td><td>9</td></tr><tr><td>5</td><td>10</td></tr></tbody></table></div>"
      ],
      "text/plain": [
       "shape: (5, 2)\n",
       "┌─────┬─────┐\n",
       "│ A   ┆ B   │\n",
       "│ --- ┆ --- │\n",
       "│ i64 ┆ i64 │\n",
       "╞═════╪═════╡\n",
       "│ 1   ┆ 6   │\n",
       "│ 2   ┆ 7   │\n",
       "│ 3   ┆ 8   │\n",
       "│ 4   ┆ 9   │\n",
       "│ 5   ┆ 10  │\n",
       "└─────┴─────┘"
      ]
     },
     "execution_count": 82,
     "metadata": {},
     "output_type": "execute_result"
    }
   ],
   "source": [
    "numpy_data = np.array([\n",
    "    [1, 2, 3, 4, 5],\n",
    "    [6, 7, 8, 9, 10]\n",
    "]).T\n",
    "\n",
    "pl.from_numpy(numpy_data, schema={\"A\": pl.Int64, \"B\": pl.Int64})"
   ]
  },
  {
   "cell_type": "markdown",
   "id": "d08feec6",
   "metadata": {},
   "source": [
    "## Normal Dataframe Handling"
   ]
  },
  {
   "cell_type": "code",
   "execution_count": 50,
   "id": "4f23a342",
   "metadata": {},
   "outputs": [],
   "source": [
    "def scrap_type(data: Any) -> Data_Typed:\n",
    "    return str(type(data)).split(\"'\")[1], data"
   ]
  },
  {
   "cell_type": "code",
   "execution_count": 51,
   "id": "2a920756",
   "metadata": {},
   "outputs": [
    {
     "data": {
      "text/plain": [
       "('int', 1)"
      ]
     },
     "execution_count": 51,
     "metadata": {},
     "output_type": "execute_result"
    }
   ],
   "source": [
    "scrap_type(1)"
   ]
  },
  {
   "cell_type": "code",
   "execution_count": 60,
   "id": "4a71d980",
   "metadata": {},
   "outputs": [],
   "source": [
    "def generate_df(data: Dataframe_Data, lazy: bool = False) -> Dataframe:\n",
    "    if lazy:\n",
    "        return pl.LazyFrame(data)\n",
    "    return pl.DataFrame(data)"
   ]
  },
  {
   "cell_type": "code",
   "execution_count": 61,
   "id": "324493dd",
   "metadata": {},
   "outputs": [],
   "source": [
    "def df_display(df: Dataframe, option: str = 'schema') -> Dataframe_Display:\n",
    "    match option:\n",
    "        case 'schema':\n",
    "            return df.schema\n",
    "        case 'head':\n",
    "            return df.head()\n",
    "        case 'describe':\n",
    "            return df.describe()\n",
    "        case _:\n",
    "            raise Exception(f'{ option } is\\'nt supported!')"
   ]
  },
  {
   "cell_type": "code",
   "execution_count": 69,
   "id": "a0768999",
   "metadata": {},
   "outputs": [],
   "source": [
    "num_rows = 5000\n",
    "rng = set_random(7)\n",
    "\n",
    "buildings_data = {\n",
    "    \"sqft\": rng.exponential(scale=1000, size=num_rows),\n",
    "    \"price\": rng.exponential(scale=100_000, size=num_rows),\n",
    "    \"year\": rng.integers(low=1995, high=2023, size=num_rows),\n",
    "    \"building_type\": rng.choice([\"A\", \"B\", \"C\"], size=num_rows)\n",
    "}"
   ]
  },
  {
   "cell_type": "code",
   "execution_count": 37,
   "id": "4f12985e",
   "metadata": {},
   "outputs": [
    {
     "name": "stdout",
     "output_type": "stream",
     "text": [
      "Displaying the schema option\n",
      "OrderedDict([('sqft', Float64), ('year', Int64), ('building_type', String)])\n",
      "\n",
      "\n",
      "Displaying the head option\n",
      "shape: (5, 3)\n",
      "┌─────────────┬──────┬───────────────┐\n",
      "│ sqft        ┆ year ┆ building_type │\n",
      "│ ---         ┆ ---  ┆ ---           │\n",
      "│ f64         ┆ i64  ┆ str           │\n",
      "╞═════════════╪══════╪═══════════════╡\n",
      "│ 707.529256  ┆ 1996 ┆ C             │\n",
      "│ 1025.203348 ┆ 2020 ┆ C             │\n",
      "│ 568.548657  ┆ 2012 ┆ A             │\n",
      "│ 895.109864  ┆ 2000 ┆ A             │\n",
      "│ 206.532754  ┆ 2011 ┆ A             │\n",
      "└─────────────┴──────┴───────────────┘\n",
      "\n",
      "\n",
      "Displaying the describe option\n",
      "shape: (9, 4)\n",
      "┌────────────┬─────────────┬───────────┬───────────────┐\n",
      "│ statistic  ┆ sqft        ┆ year      ┆ building_type │\n",
      "│ ---        ┆ ---         ┆ ---       ┆ ---           │\n",
      "│ str        ┆ f64         ┆ f64       ┆ str           │\n",
      "╞════════════╪═════════════╪═══════════╪═══════════════╡\n",
      "│ count      ┆ 5000.0      ┆ 5000.0    ┆ 5000          │\n",
      "│ null_count ┆ 0.0         ┆ 0.0       ┆ 0             │\n",
      "│ mean       ┆ 994.094456  ┆ 2008.5258 ┆ null          │\n",
      "│ std        ┆ 1016.641569 ┆ 8.062353  ┆ null          │\n",
      "│ min        ┆ 1.133256    ┆ 1995.0    ┆ A             │\n",
      "│ 25%        ┆ 286.807549  ┆ 2001.0    ┆ null          │\n",
      "│ 50%        ┆ 669.406964  ┆ 2009.0    ┆ null          │\n",
      "│ 75%        ┆ 1342.909782 ┆ 2015.0    ┆ null          │\n",
      "│ max        ┆ 9307.793917 ┆ 2022.0    ┆ C             │\n",
      "└────────────┴─────────────┴───────────┴───────────────┘\n"
     ]
    }
   ],
   "source": [
    "for idx, option in enumerate(('schema', 'head', 'describe')):\n",
    "    print(f'Displaying the { option } option\\n{ df_display(buildings, option=option) }')\n",
    "    \n",
    "    if idx != 2:\n",
    "        print('\\n')"
   ]
  },
  {
   "cell_type": "code",
   "execution_count": 71,
   "id": "a8301e5e",
   "metadata": {},
   "outputs": [],
   "source": [
    "buildings = generate_df(buildings_data)"
   ]
  },
  {
   "cell_type": "code",
   "execution_count": 40,
   "id": "61d1184e",
   "metadata": {
    "scrolled": true
   },
   "outputs": [
    {
     "data": {
      "text/html": [
       "<div><style>\n",
       ".dataframe > thead > tr,\n",
       ".dataframe > tbody > tr {\n",
       "  text-align: right;\n",
       "  white-space: pre-wrap;\n",
       "}\n",
       "</style>\n",
       "<small>shape: (5_000, 1)</small><table border=\"1\" class=\"dataframe\"><thead><tr><th>sqft</th></tr><tr><td>f64</td></tr></thead><tbody><tr><td>0.001133</td></tr><tr><td>0.001152</td></tr><tr><td>0.001429</td></tr><tr><td>0.001439</td></tr><tr><td>0.001505</td></tr><tr><td>&hellip;</td></tr><tr><td>6.931917</td></tr><tr><td>7.247539</td></tr><tr><td>7.629569</td></tr><tr><td>8.313942</td></tr><tr><td>9.307794</td></tr></tbody></table></div>"
      ],
      "text/plain": [
       "shape: (5_000, 1)\n",
       "┌──────────┐\n",
       "│ sqft     │\n",
       "│ ---      │\n",
       "│ f64      │\n",
       "╞══════════╡\n",
       "│ 0.001133 │\n",
       "│ 0.001152 │\n",
       "│ 0.001429 │\n",
       "│ 0.001439 │\n",
       "│ 0.001505 │\n",
       "│ …        │\n",
       "│ 6.931917 │\n",
       "│ 7.247539 │\n",
       "│ 7.629569 │\n",
       "│ 8.313942 │\n",
       "│ 9.307794 │\n",
       "└──────────┘"
      ]
     },
     "execution_count": 40,
     "metadata": {},
     "output_type": "execute_result"
    }
   ],
   "source": [
    "buildings.select(pl.col(\"sqft\").sort() / 1000)"
   ]
  },
  {
   "cell_type": "code",
   "execution_count": 41,
   "id": "3163158e",
   "metadata": {},
   "outputs": [
    {
     "data": {
      "text/plain": [
       "(1230, 3)"
      ]
     },
     "execution_count": 41,
     "metadata": {},
     "output_type": "execute_result"
    }
   ],
   "source": [
    "after_2015 = buildings.filter(pl.col(\"year\") > 2015)\n",
    "after_2015.shape"
   ]
  },
  {
   "cell_type": "code",
   "execution_count": 42,
   "id": "b4be7cdf",
   "metadata": {},
   "outputs": [
    {
     "data": {
      "text/html": [
       "<div><style>\n",
       ".dataframe > thead > tr,\n",
       ".dataframe > tbody > tr {\n",
       "  text-align: right;\n",
       "  white-space: pre-wrap;\n",
       "}\n",
       "</style>\n",
       "<small>shape: (1, 1)</small><table border=\"1\" class=\"dataframe\"><thead><tr><th>year</th></tr><tr><td>i64</td></tr></thead><tbody><tr><td>2016</td></tr></tbody></table></div>"
      ],
      "text/plain": [
       "shape: (1, 1)\n",
       "┌──────┐\n",
       "│ year │\n",
       "│ ---  │\n",
       "│ i64  │\n",
       "╞══════╡\n",
       "│ 2016 │\n",
       "└──────┘"
      ]
     },
     "execution_count": 42,
     "metadata": {},
     "output_type": "execute_result"
    }
   ],
   "source": [
    "after_2015.select(pl.col(\"year\").min())"
   ]
  },
  {
   "cell_type": "code",
   "execution_count": 44,
   "id": "cccc3ac7",
   "metadata": {},
   "outputs": [
    {
     "data": {
      "text/html": [
       "<div><style>\n",
       ".dataframe > thead > tr,\n",
       ".dataframe > tbody > tr {\n",
       "  text-align: right;\n",
       "  white-space: pre-wrap;\n",
       "}\n",
       "</style>\n",
       "<small>shape: (3, 4)</small><table border=\"1\" class=\"dataframe\"><thead><tr><th>building_type</th><th>mean_sqft</th><th>median_year</th><th>len</th></tr><tr><td>str</td><td>f64</td><td>f64</td><td>u32</td></tr></thead><tbody><tr><td>&quot;B&quot;</td><td>992.754444</td><td>2009.0</td><td>1655</td></tr><tr><td>&quot;C&quot;</td><td>999.854722</td><td>2009.0</td><td>1692</td></tr><tr><td>&quot;A&quot;</td><td>989.539918</td><td>2009.0</td><td>1653</td></tr></tbody></table></div>"
      ],
      "text/plain": [
       "shape: (3, 4)\n",
       "┌───────────────┬────────────┬─────────────┬──────┐\n",
       "│ building_type ┆ mean_sqft  ┆ median_year ┆ len  │\n",
       "│ ---           ┆ ---        ┆ ---         ┆ ---  │\n",
       "│ str           ┆ f64        ┆ f64         ┆ u32  │\n",
       "╞═══════════════╪════════════╪═════════════╪══════╡\n",
       "│ B             ┆ 992.754444 ┆ 2009.0      ┆ 1655 │\n",
       "│ C             ┆ 999.854722 ┆ 2009.0      ┆ 1692 │\n",
       "│ A             ┆ 989.539918 ┆ 2009.0      ┆ 1653 │\n",
       "└───────────────┴────────────┴─────────────┴──────┘"
      ]
     },
     "execution_count": 44,
     "metadata": {},
     "output_type": "execute_result"
    }
   ],
   "source": [
    "buildings.group_by(\"building_type\").agg(\n",
    "    [\n",
    "        pl.mean(\"sqft\").alias(\"mean_sqft\"),\n",
    "        pl.median(\"year\").alias(\"median_year\"),\n",
    "        pl.len(),\n",
    "    ]\n",
    ")"
   ]
  },
  {
   "cell_type": "code",
   "execution_count": 83,
   "id": "4b0b4310",
   "metadata": {},
   "outputs": [
    {
     "data": {
      "text/plain": [
       "array([[707.5292557919215, 86928.59338505926, 2011, 'A'],\n",
       "       [1025.203348294905, 40787.436652471086, 2016, 'C'],\n",
       "       [568.5486573832515, 145524.59522088937, 2010, 'C'],\n",
       "       ...,\n",
       "       [57.562058564789915, 44406.81451850381, 2017, 'A'],\n",
       "       [3728.0889487033314, 44521.146461668344, 1999, 'A'],\n",
       "       [686.6783449693073, 73591.32196098166, 1995, 'B']], dtype=object)"
      ]
     },
     "execution_count": 83,
     "metadata": {},
     "output_type": "execute_result"
    }
   ],
   "source": [
    "buildings.to_numpy()"
   ]
  },
  {
   "cell_type": "markdown",
   "id": "b9be6290",
   "metadata": {},
   "source": [
    "## Lazy Dataframe Handling\n",
    "### Queries"
   ]
  },
  {
   "cell_type": "code",
   "execution_count": 72,
   "id": "fe3f00c6",
   "metadata": {},
   "outputs": [
    {
     "data": {
      "text/plain": [
       "polars.lazyframe.frame.LazyFrame"
      ]
     },
     "execution_count": 72,
     "metadata": {},
     "output_type": "execute_result"
    }
   ],
   "source": [
    "lazy_buildings = generate_df(buildings_data, lazy=True)"
   ]
  },
  {
   "cell_type": "code",
   "execution_count": 73,
   "id": "e2105270",
   "metadata": {},
   "outputs": [
    {
     "data": {
      "text/plain": [
       "polars.lazyframe.frame.LazyFrame"
      ]
     },
     "execution_count": 73,
     "metadata": {},
     "output_type": "execute_result"
    }
   ],
   "source": [
    "lazy_query = (\n",
    "    lazy_buildings\n",
    "        .with_columns(\n",
    "            (pl.col(\"price\") / pl.col(\"sqft\")).alias(\"price_per_sqft\")\n",
    "        )\n",
    "        .filter(pl.col(\"price_per_sqft\") > 100)\n",
    "        .filter(pl.col(\"year\") < 2010)\n",
    ")"
   ]
  },
  {
   "cell_type": "code",
   "execution_count": 78,
   "id": "e4c5ca2f",
   "metadata": {},
   "outputs": [
    {
     "data": {
      "image/svg+xml": [
       "<svg xmlns=\"http://www.w3.org/2000/svg\" xmlns:xlink=\"http://www.w3.org/1999/xlink\" width=\"292pt\" height=\"205pt\" viewBox=\"0.00 0.00 292.00 205.00\">\n",
       "<g id=\"graph0\" class=\"graph\" transform=\"scale(1 1) rotate(0) translate(4 201)\">\n",
       "<title>polars_query</title>\n",
       "<polygon fill=\"white\" stroke=\"transparent\" points=\"-4,4 -4,-201 288,-201 288,4 -4,4\"/>\n",
       "<!-- FILTER BY (col(&quot;price_per_sqft&quot;)) &gt;... [(0, 0)] -->\n",
       "<g id=\"node1\" class=\"node\">\n",
       "<title>FILTER BY (col(&quot;price_per_sqft&quot;)) &gt;... [(0, 0)]</title>\n",
       "<polygon fill=\"none\" stroke=\"black\" points=\"284,-197 0,-197 0,-161 284,-161 284,-197\"/>\n",
       "<text text-anchor=\"middle\" x=\"142\" y=\"-175.3\" font-family=\"Times,serif\" font-size=\"14.00\">FILTER BY (col(&quot;price_per_sqft&quot;)) &gt;...</text>\n",
       "</g>\n",
       "<!-- WITH COLUMNS [&quot;price_per_sqft&quot;] [(0, 1)] -->\n",
       "<g id=\"node2\" class=\"node\">\n",
       "<title>WITH COLUMNS [&quot;price_per_sqft&quot;] [(0, 1)]</title>\n",
       "<polygon fill=\"none\" stroke=\"black\" points=\"276.5,-125 7.5,-125 7.5,-89 276.5,-89 276.5,-125\"/>\n",
       "<text text-anchor=\"middle\" x=\"142\" y=\"-103.3\" font-family=\"Times,serif\" font-size=\"14.00\">WITH COLUMNS [&quot;price_per_sqft&quot;]</text>\n",
       "</g>\n",
       "<!-- FILTER BY (col(&quot;price_per_sqft&quot;)) &gt;... [(0, 0)]&#45;&#45;WITH COLUMNS [&quot;price_per_sqft&quot;] [(0, 1)] -->\n",
       "<g id=\"edge1\" class=\"edge\">\n",
       "<title>FILTER BY (col(&quot;price_per_sqft&quot;)) &gt;... [(0, 0)]--WITH COLUMNS [&quot;price_per_sqft&quot;] [(0, 1)]</title>\n",
       "<path fill=\"none\" stroke=\"black\" d=\"M142,-160.7C142,-149.85 142,-135.92 142,-125.1\"/>\n",
       "</g>\n",
       "<!-- TABLE\n",
       "π */4;\n",
       "σ (col(&quot;year&quot;)) &lt; (2010) [(0, 2)] -->\n",
       "<g id=\"node3\" class=\"node\">\n",
       "<title>TABLE\n",
       "π */4;\n",
       "σ (col(&quot;year&quot;)) &lt; (2010) [(0, 2)]</title>\n",
       "<polygon fill=\"none\" stroke=\"black\" points=\"234.5,-53 49.5,-53 49.5,0 234.5,0 234.5,-53\"/>\n",
       "<text text-anchor=\"middle\" x=\"142\" y=\"-37.8\" font-family=\"Times,serif\" font-size=\"14.00\">TABLE</text>\n",
       "<text text-anchor=\"middle\" x=\"142\" y=\"-22.8\" font-family=\"Times,serif\" font-size=\"14.00\">π */4;</text>\n",
       "<text text-anchor=\"middle\" x=\"142\" y=\"-7.8\" font-family=\"Times,serif\" font-size=\"14.00\">σ (col(&quot;year&quot;)) &lt; (2010)</text>\n",
       "</g>\n",
       "<!-- WITH COLUMNS [&quot;price_per_sqft&quot;] [(0, 1)]&#45;&#45;TABLE\n",
       "π */4;\n",
       "σ (col(&quot;year&quot;)) &lt; (2010) [(0, 2)] -->\n",
       "<g id=\"edge2\" class=\"edge\">\n",
       "<title>WITH COLUMNS [&quot;price_per_sqft&quot;] [(0, 1)]--TABLE\n",
       "π */4;\n",
       "σ (col(&quot;year&quot;)) &lt; (2010) [(0, 2)]</title>\n",
       "<path fill=\"none\" stroke=\"black\" d=\"M142,-88.97C142,-78.51 142,-64.9 142,-53.16\"/>\n",
       "</g>\n",
       "</g>\n",
       "</svg>"
      ],
      "text/plain": [
       "<IPython.core.display.SVG object>"
      ]
     },
     "metadata": {},
     "output_type": "display_data"
    }
   ],
   "source": [
    "lazy_query.show_graph()"
   ]
  },
  {
   "cell_type": "markdown",
   "id": "caf21f7f",
   "metadata": {},
   "source": [
    "- Sigma (σ) and pi (π) are symbols from relational algebra, and they tell you the operation that you’re performing on the data.\n",
    "- In this example, π */4 says that you’re working with all four columns of the DataFrame, and σ(col(“year”)) < 2010 tells you that you’re only processing rows with a year less than 2010. You can interpret the full query plan with these steps:\n",
    "    1. Use the four columns of buildings_lazy, and filter buildings_lazy to rows where year is less than 2010.\n",
    "    2. Create the price_per_sqft column.\n",
    "    3. Filter buildings_lazy to all rows where price_per_sqft is greater than 100."
   ]
  },
  {
   "cell_type": "code",
   "execution_count": 81,
   "id": "ebe7313c",
   "metadata": {},
   "outputs": [
    {
     "data": {
      "text/html": [
       "<div><style>\n",
       ".dataframe > thead > tr,\n",
       ".dataframe > tbody > tr {\n",
       "  text-align: right;\n",
       "  white-space: pre-wrap;\n",
       "}\n",
       "</style>\n",
       "<small>shape: (5, 2)</small><table border=\"1\" class=\"dataframe\"><thead><tr><th>price_per_sqft</th><th>year</th></tr><tr><td>f64</td><td>i64</td></tr></thead><tbody><tr><td>3268.19045</td><td>1996</td></tr><tr><td>274.339166</td><td>2000</td></tr><tr><td>296.979717</td><td>2004</td></tr><tr><td>378.86472</td><td>2002</td></tr><tr><td>127.302589</td><td>1995</td></tr></tbody></table></div>"
      ],
      "text/plain": [
       "shape: (5, 2)\n",
       "┌────────────────┬──────┐\n",
       "│ price_per_sqft ┆ year │\n",
       "│ ---            ┆ ---  │\n",
       "│ f64            ┆ i64  │\n",
       "╞════════════════╪══════╡\n",
       "│ 3268.19045     ┆ 1996 │\n",
       "│ 274.339166     ┆ 2000 │\n",
       "│ 296.979717     ┆ 2004 │\n",
       "│ 378.86472      ┆ 2002 │\n",
       "│ 127.302589     ┆ 1995 │\n",
       "└────────────────┴──────┘"
      ]
     },
     "execution_count": 81,
     "metadata": {},
     "output_type": "execute_result"
    }
   ],
   "source": [
    "(\n",
    "    lazy_query\n",
    "        .collect()\n",
    "        .select(pl.col(['price_per_sqft', 'year']))\n",
    "        .head()\n",
    ")"
   ]
  },
  {
   "cell_type": "markdown",
   "id": "e96f01f1",
   "metadata": {},
   "source": [
    "### Scanning Data\n",
    "- When you scan a file, rather than reading the entire file into memory, Polars creates a LazyFrame that references the file’s data. As before, no processing of the data occurs until you explicitly execute a query.\n",
    "    - The only thing that's stored right away is the schema\n",
    "    - Polars must know the schema before executing any step of a query plan.\n",
    "    - No computation is performed until you call lazy_car_query.collect(). After the query is executed, only the data you asked for is stored and returned—nothing more."
   ]
  },
  {
   "cell_type": "code",
   "execution_count": 46,
   "id": "868ce111",
   "metadata": {},
   "outputs": [
    {
     "data": {
      "text/plain": [
       "\"<class 'int'>\""
      ]
     },
     "execution_count": 46,
     "metadata": {},
     "output_type": "execute_result"
    }
   ],
   "source": [
    "str(type(1))"
   ]
  },
  {
   "cell_type": "code",
   "execution_count": null,
   "id": "c309a55c",
   "metadata": {},
   "outputs": [],
   "source": [
    "'''\n",
    "    # data.json\n",
    "    {\n",
    "        'A': 1,\n",
    "        'B': 2\n",
    "    }\n",
    "'''\n",
    "\n",
    "data_json_lazy = pl.scan_ndjson(\"data.json\")\n",
    "data_json_lazy.schema"
   ]
  },
  {
   "cell_type": "markdown",
   "id": "2bc75ba0",
   "metadata": {},
   "source": [
    "### Lazy Application"
   ]
  },
  {
   "cell_type": "code",
   "execution_count": null,
   "id": "4f0f0e23",
   "metadata": {},
   "outputs": [],
   "source": [
    "class Polars_Abstraction:\n",
    "    # The Schema_Typed is important for validating queries before their executed. Takes advantage of Polars.\n",
    "    def __init__(self, df_name: str, data: Dataframe_Data):\n",
    "        self.df_name: str = df_name\n",
    "        self.df: Lazy_Dataframe = generate_df(data, lazy=True)\n",
    "        \n",
    "        self.schema: Schema_Typed = {key: scrap_type(value) for key, value in data.items()}\n",
    "        \n",
    "    # HERE tonight... Polish notation problem using ordered operations\n",
    "    def get(self, columns: Columns = None, operations: Context_Operations = None) -> Dataframe_Display:\n",
    "        # Build context here!\n",
    "        \n",
    "        '''\n",
    "            match option:\n",
    "                case 'dataframe':\n",
    "                    return self.df\n",
    "                case 'select':\n",
    "                    return self.df.select(context)\n",
    "                case 'context_select':\n",
    "                    pass\n",
    "                case _:\n",
    "                    pass\n",
    "        '''\n",
    "        pass\n",
    "            \n",
    "    def display(self, option: str = 'schema_typed') -> Dataframe_Display:\n",
    "        match option:\n",
    "            case 'dataframe':\n",
    "                return self.df\n",
    "            case 'schema_typed':\n",
    "                return self.schema\n",
    "            case 'schema':\n",
    "                return self.df.schema\n",
    "            case 'head':\n",
    "                return self.df.head()\n",
    "            case 'describe':\n",
    "                return self.df.describe()\n",
    "            case 'query_plan':\n",
    "                # This one appears to immediately send the results to Matplotlib in the background\n",
    "                self.df.show_graph()\n",
    "            case _:\n",
    "                raise Exception(f'{ option } is\\'nt supported!')"
   ]
  },
  {
   "cell_type": "raw",
   "id": "5f0e2c1f",
   "metadata": {},
   "source": [
    "### Advanced Examples\n",
    "lazy_car_query = (\n",
    "...     lazy_car_data\n",
    "...     .filter((pl.col(\"Model Year\") >= 2018))\n",
    "...     .filter(\n",
    "...         pl.col(\"Electric Vehicle Type\") == \"Battery Electric Vehicle (BEV)\"\n",
    "...     )\n",
    "...     .groupby([\"State\", \"Make\"])\n",
    "...     .agg(\n",
    "...         pl.mean(\"Electric Range\").alias(\"Average Electric Range\"),\n",
    "...         pl.min(\"Model Year\").alias(\"Oldest Model Year\"),\n",
    "...         pl.count().alias(\"Number of Cars\"),\n",
    "...     )\n",
    "...     .filter(pl.col(\"Average Electric Range\") > 0)\n",
    "...     .filter(pl.col(\"Number of Cars\") > 5)\n",
    "...     .sort(pl.col(\"Number of Cars\"), descending=True)\n",
    "... )\n",
    "\n",
    "q = (\n",
    "    pl.scan_csv(\"docs/data/iris.csv\")\n",
    "    .filter(pl.col(\"sepal_length\") > 5)\n",
    "    .group_by(\"species\")\n",
    "    .agg(pl.col(\"sepal_width\").mean())\n",
    ")\n",
    "\n",
    "df = q.collect()"
   ]
  },
  {
   "cell_type": "markdown",
   "id": "109ed14c",
   "metadata": {},
   "source": [
    "### Using Datetime"
   ]
  },
  {
   "cell_type": "code",
   "execution_count": 2,
   "id": "b5f723be",
   "metadata": {},
   "outputs": [
    {
     "name": "stdout",
     "output_type": "stream",
     "text": [
      "shape: (3, 4)\n",
      "┌─────────┬─────────────────────┬───────┬────────┐\n",
      "│ integer ┆ date                ┆ float ┆ string │\n",
      "│ ---     ┆ ---                 ┆ ---   ┆ ---    │\n",
      "│ i64     ┆ datetime[μs]        ┆ f64   ┆ str    │\n",
      "╞═════════╪═════════════════════╪═══════╪════════╡\n",
      "│ 1       ┆ 2025-01-01 00:00:00 ┆ 4.0   ┆ a      │\n",
      "│ 2       ┆ 2025-01-02 00:00:00 ┆ 5.0   ┆ b      │\n",
      "│ 3       ┆ 2025-01-03 00:00:00 ┆ 6.0   ┆ c      │\n",
      "└─────────┴─────────────────────┴───────┴────────┘\n"
     ]
    }
   ],
   "source": [
    "from datetime import datetime\n",
    "\n",
    "df = pl.DataFrame(\n",
    "    {\n",
    "        \"integer\": [1, 2, 3],\n",
    "        \"date\": [\n",
    "            datetime(2025, 1, 1),\n",
    "            datetime(2025, 1, 2),\n",
    "            datetime(2025, 1, 3),\n",
    "        ],\n",
    "        \"float\": [4.0, 5.0, 6.0],\n",
    "        \"string\": [\"a\", \"b\", \"c\"],\n",
    "    }\n",
    ")\n",
    "\n",
    "print(df)"
   ]
  },
  {
   "cell_type": "code",
   "execution_count": 5,
   "id": "9b9f6ab8",
   "metadata": {},
   "outputs": [
    {
     "data": {
      "text/html": [
       "<div><style>\n",
       ".dataframe > thead > tr,\n",
       ".dataframe > tbody > tr {\n",
       "  text-align: right;\n",
       "  white-space: pre-wrap;\n",
       "}\n",
       "</style>\n",
       "<small>shape: (2, 4)</small><table border=\"1\" class=\"dataframe\"><thead><tr><th>integer</th><th>date</th><th>float</th><th>string</th></tr><tr><td>i64</td><td>datetime[μs]</td><td>f64</td><td>str</td></tr></thead><tbody><tr><td>2</td><td>2025-01-02 00:00:00</td><td>5.0</td><td>&quot;b&quot;</td></tr><tr><td>3</td><td>2025-01-03 00:00:00</td><td>6.0</td><td>&quot;c&quot;</td></tr></tbody></table></div>"
      ],
      "text/plain": [
       "shape: (2, 4)\n",
       "┌─────────┬─────────────────────┬───────┬────────┐\n",
       "│ integer ┆ date                ┆ float ┆ string │\n",
       "│ ---     ┆ ---                 ┆ ---   ┆ ---    │\n",
       "│ i64     ┆ datetime[μs]        ┆ f64   ┆ str    │\n",
       "╞═════════╪═════════════════════╪═══════╪════════╡\n",
       "│ 2       ┆ 2025-01-02 00:00:00 ┆ 5.0   ┆ b      │\n",
       "│ 3       ┆ 2025-01-03 00:00:00 ┆ 6.0   ┆ c      │\n",
       "└─────────┴─────────────────────┴───────┴────────┘"
      ]
     },
     "execution_count": 5,
     "metadata": {},
     "output_type": "execute_result"
    }
   ],
   "source": [
    "df.filter(\n",
    "    pl.col(\"date\").is_between(datetime(2025, 1, 2), datetime(2025, 1, 3)),\n",
    ")"
   ]
  },
  {
   "cell_type": "markdown",
   "id": "4e6b08c4",
   "metadata": {},
   "source": [
    "### Streaming API\n",
    "#### Still in development\n",
    "- execute the query in batches allowing you to process datasets that are larger-than-memory\n",
    "- However, not all lazy operations support streaming\n",
    "- Ones supported as of Feb 29, 2024\n",
    "    - filter, slice, head, tail, with_columns, select, group_by, join, unique, sort, explode, melt"
   ]
  }
 ],
 "metadata": {
  "kernelspec": {
   "display_name": "Python 3 (ipykernel)",
   "language": "python",
   "name": "python3"
  },
  "language_info": {
   "codemirror_mode": {
    "name": "ipython",
    "version": 3
   },
   "file_extension": ".py",
   "mimetype": "text/x-python",
   "name": "python",
   "nbconvert_exporter": "python",
   "pygments_lexer": "ipython3",
   "version": "3.10.12"
  }
 },
 "nbformat": 4,
 "nbformat_minor": 5
}
