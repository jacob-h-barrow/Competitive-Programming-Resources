{
 "cells": [
  {
   "cell_type": "markdown",
   "id": "254c6d72",
   "metadata": {},
   "source": [
    "# Dataclasses\n",
    "- There is a long, complex history behind the concept of dataclasses. Although it is a decorator implemented back in Python 3.7+, it's syntax and purpose can be echoed throughout history. In C, yes way back to your grandfather's programming language, structs were a new concept. Structs helped organize fields under one user-defined data type. This permitted great flexibility when you wanted to group properties together. As Linux stemmed from Unix, there was a need to attach functions within these user-defined data types. There was a need to further specialize structs with function indirection, or function pointers, that related to other properties/fields within a given struct. Working with function pointers in a struct can provide OOP-based class design interfaces; however, function pointers are hard to write, manage, and read. Linux still uses these function pointers in structs to polymorphize kernel behavior. Yes, that's a new word that should exist. Linux structs with function indirections provide polymorphic specializations at compile or run time; hence, these structs polymorphize kernel manifestations. As developers started looking into OOP-based C, or C++, structs morphed greatly. In the 1980s, structs started providing concrete methods associated with similar fields within a user-defined data type. Instead of function pointers, C++ enabled end-users to directly write these methods. That was revolutionary at the time. Fast forward 30 years, and the Python dataclass was implemented in the standard library. True to C++'s heritage, dataclasses provide an interface similar to C++ structs. Departing from this mentionality, Python improved the user experience by providing converters, type checks, and default methods (dunders) built into the C++ struct. In this section, we will go through the unique features that extend beyond the C and C++ structs. Specifically, we will focus on codec converters, like JSON and YAML, runtime API enforcements, and fast ORM conversions for faster, more secure network programmability. Here are some of the high-level topics we will cover.\n",
    "1. Post initializations behaviors\n",
    "2. Dunders for polymorphic behavior\n",
    "3. Field converters\n",
    "4. ORM relations and input\n",
    "5. API type enforcement\n",
    "6. Structured OOP designs\n",
    "     - Immutable\n",
    "     - Inheritance"
   ]
  },
  {
   "cell_type": "markdown",
   "id": "172bc1f0",
   "metadata": {},
   "source": [
    "## Dataclass Things\n",
    "- Hjelle, G. (May 15, 2018). Data Classes in Python 3.7+. Retrieved 1 March 2024. https://realpython.com/search?q=dataclasses\n",
    "    - All instances of a dataclass will use the same property/attribute at the start, therefore each default value needs to be immutable\n",
    "        - To use a mutable default value you must use the default_factory handle: this requires the field() specifier\n",
    "        - field() supports the following parameters:\n",
    "            - default: Default value of the field\n",
    "            - default_factory: Function that returns the initial value of the field\n",
    "            - init: Use field in .\\__init__() method? (Default is True.)\n",
    "            - repr: Use field in repr of the object? (Default is True.)\n",
    "            - compare: Include the field in comparisons? (Default is True.)\n",
    "            - hash: Include the field when calculating hash() (Default is to use the same as for compare.)\n",
    "            - metadata: A mapping with information about the field\n",
    "    - @dataclass is a decorator that supports the following parameters\n",
    "        - init: Add .\\__init__() method? (Default is True.)\n",
    "        - repr: Add .\\__repr__() method? (Default is True.)\n",
    "        - eq: Add .\\__eq__() method? (Default is True.)\n",
    "        - order: Add ordering methods? (Default is False.)\n",
    "        - unsafe_hash: Force the addition of a .\\__hash__() method? (Default is False.)\n",
    "        - frozen: If True, assigning to fields raise an exception. (Default is False.)\n",
    "    - Can subclass dataclasses freely\n",
    "        - Caveats\n",
    "            1. If a parameter has a default value, all following parameters must also have a default value. In other words, if a field in a base class has a default value, then all new fields added in a subclass must have default values as well.\n",
    "            2. Starting with the base class, fields are ordered in the order in which they are first defined. If a field is redefined in a subclass, its order does not change.\n",
    "    - Slots use less memory and speed up computations\n",
    "        - Requires list of variables\n",
    "        - These variables may not have any default parameters\n",
    "        \n",
    "- Dutta, S. (March 8, 2022). Advanced Python: Dataclasses. Retrieved 1 March 2024. https://levelup.gitconnected.com/advanced-python-dataclasses-6a1e53bc4d8d\n",
    "    - __le__(), __lt__(), __gt__(), __ge__() as we added the order=True (notice we didn't even implement these four in our old style class declaration as the code was already quite lengthy)"
   ]
  },
  {
   "cell_type": "code",
   "execution_count": 1,
   "id": "dcf50dc2",
   "metadata": {},
   "outputs": [],
   "source": [
    "from dataclasses import dataclass, field, is_dataclass, asdict\n",
    "from math import asin, cos, radians, sin, sqrt\n",
    "from typing import List\n",
    "from random import sample\n",
    "from supporting.aes import AESCipher"
   ]
  },
  {
   "cell_type": "code",
   "execution_count": 2,
   "id": "57e228c6",
   "metadata": {},
   "outputs": [],
   "source": [
    "@dataclass\n",
    "class SlotPosition:\n",
    "    __slots__ = ['name', 'lon', 'lat']\n",
    "    name: str\n",
    "    lon: float\n",
    "    lat: float\n",
    "    \n",
    "@dataclass\n",
    "class Position:\n",
    "    name: str\n",
    "    lon: float\n",
    "    lat: float\n",
    "    \n",
    "    def __str__(self) -> str:\n",
    "        return f'{self.name} is at {self.lat}°N, {self.lon}°E'\n",
    "    \n",
    "    def distance_to(self, other):\n",
    "        r = 6371  # Earth radius in kilometers\n",
    "        lam_1, lam_2 = radians(self.lon), radians(other.lon)\n",
    "        phi_1, phi_2 = radians(self.lat), radians(other.lat)\n",
    "        h = (sin((phi_2 - phi_1) / 2)**2\n",
    "             + cos(phi_1) * cos(phi_2) * sin((lam_2 - lam_1) / 2)**2)\n",
    "        return 2 * r * asin(sqrt(h))"
   ]
  },
  {
   "cell_type": "code",
   "execution_count": 3,
   "id": "9a4c9416",
   "metadata": {},
   "outputs": [
    {
     "data": {
      "text/plain": [
       "'Oslo is at 59.9°N, 10.8°E'"
      ]
     },
     "execution_count": 3,
     "metadata": {},
     "output_type": "execute_result"
    }
   ],
   "source": [
    "oslo = Position('Oslo', 10.8, 59.9)\n",
    "str(oslo)"
   ]
  },
  {
   "cell_type": "code",
   "execution_count": 4,
   "id": "22350f6f",
   "metadata": {},
   "outputs": [],
   "source": [
    "vancouver = Position('Vancouver', -123.1, 49.3)"
   ]
  },
  {
   "cell_type": "code",
   "execution_count": 5,
   "id": "3af89b1f",
   "metadata": {},
   "outputs": [
    {
     "data": {
      "text/plain": [
       "7181.7841229421165"
      ]
     },
     "execution_count": 5,
     "metadata": {},
     "output_type": "execute_result"
    }
   ],
   "source": [
    "oslo.distance_to(vancouver)"
   ]
  },
  {
   "cell_type": "code",
   "execution_count": 6,
   "id": "5f51d6f9",
   "metadata": {},
   "outputs": [],
   "source": [
    "RANKS = '2 3 4 5 6 7 8 9 10 J Q K A'.split()\n",
    "SUITS = '♣ ♢ ♡ ♠'.split()\n",
    "\n",
    "@dataclass(order=True)\n",
    "class PlayingCard:\n",
    "    sort_index: int = field(init=False, repr=False) # init=False means don't include as parameter to __init__\n",
    "    rank: str\n",
    "    suit: str\n",
    "    \n",
    "    def __post_init__(self):\n",
    "        self.sort_index = (RANKS.index(self.rank) * len(SUITS)\n",
    "                           + SUITS.index(self.suit))\n",
    "        \n",
    "    def __str__(self):\n",
    "        return f'{self.suit}{self.rank}'\n",
    "\n",
    "def make_french_deck():\n",
    "    return sorted([PlayingCard(r, s) for s in SUITS for r in RANKS])"
   ]
  },
  {
   "cell_type": "code",
   "execution_count": 7,
   "id": "d34741a4",
   "metadata": {},
   "outputs": [],
   "source": [
    "@dataclass\n",
    "class Deck:\n",
    "    cards: List[PlayingCard] = field(default_factory=make_french_deck)\n",
    "    \n",
    "    def __repr__(self):\n",
    "        # !s specifier in the {c!s} format string. \n",
    "        ## It means that we explicitly want to use the str() representation of each PlayingCard.\n",
    "        cards = ', '.join(f'{c!s}' for c in self.cards)\n",
    "        return f'{self.__class__.__name__}({cards})'"
   ]
  },
  {
   "cell_type": "code",
   "execution_count": 8,
   "id": "f0629e75",
   "metadata": {},
   "outputs": [
    {
     "data": {
      "text/plain": [
       "Deck(♣2, ♢2, ♡2, ♠2, ♣3, ♢3, ♡3, ♠3, ♣4, ♢4, ♡4, ♠4, ♣5, ♢5, ♡5, ♠5, ♣6, ♢6, ♡6, ♠6, ♣7, ♢7, ♡7, ♠7, ♣8, ♢8, ♡8, ♠8, ♣9, ♢9, ♡9, ♠9, ♣10, ♢10, ♡10, ♠10, ♣J, ♢J, ♡J, ♠J, ♣Q, ♢Q, ♡Q, ♠Q, ♣K, ♢K, ♡K, ♠K, ♣A, ♢A, ♡A, ♠A)"
      ]
     },
     "execution_count": 8,
     "metadata": {},
     "output_type": "execute_result"
    }
   ],
   "source": [
    "Deck()"
   ]
  },
  {
   "cell_type": "code",
   "execution_count": 9,
   "id": "c8b816e0",
   "metadata": {},
   "outputs": [
    {
     "data": {
      "text/plain": [
       "True"
      ]
     },
     "execution_count": 9,
     "metadata": {},
     "output_type": "execute_result"
    }
   ],
   "source": [
    "queen_of_hearts = PlayingCard('Q', '♡')\n",
    "ace_of_spades = PlayingCard('A', '♠')\n",
    "\n",
    "ace_of_spades > queen_of_hearts"
   ]
  },
  {
   "cell_type": "markdown",
   "id": "386a47a3",
   "metadata": {},
   "source": [
    "### Sampling"
   ]
  },
  {
   "cell_type": "code",
   "execution_count": 10,
   "id": "127fc1f9",
   "metadata": {},
   "outputs": [
    {
     "data": {
      "text/plain": [
       "Deck(♡10, ♡8, ♣9, ♠2, ♣4, ♡4, ♢4, ♢5, ♡A, ♡3)"
      ]
     },
     "execution_count": 10,
     "metadata": {},
     "output_type": "execute_result"
    }
   ],
   "source": [
    "Deck(sample(make_french_deck(), k=10))"
   ]
  },
  {
   "cell_type": "code",
   "execution_count": 11,
   "id": "ded64853",
   "metadata": {},
   "outputs": [],
   "source": [
    "@dataclass\n",
    "class Capital(Position):\n",
    "    country: str\n",
    "    uuid: int = field(init=False, default=10, repr=False, hash=False, compare=True)\n",
    "    \n",
    "    def __str__(self) -> str:\n",
    "        return f'{self.country}, {self.uuid} - {super().__str__()}'"
   ]
  },
  {
   "cell_type": "code",
   "execution_count": 12,
   "id": "ca94f27a",
   "metadata": {},
   "outputs": [
    {
     "data": {
      "text/plain": [
       "'Norway, 10 - Oslo is at 59.9°N, 10.8°E'"
      ]
     },
     "execution_count": 12,
     "metadata": {},
     "output_type": "execute_result"
    }
   ],
   "source": [
    "str(Capital('Oslo', 10.8, 59.9, 'Norway'))"
   ]
  },
  {
   "cell_type": "markdown",
   "id": "91bcc21a",
   "metadata": {},
   "source": [
    "### Important for writing an ORM\n",
    "- GFGs. (August 6, 2021). Understanding Python Dataclasses. Retrieved 1 March 2024. https://www.geeksforgeeks.org/understanding-python-dataclasses/\n",
    "    - Metadata is a mapping or None\n",
    "    - Can be used in dataclass ORM front-ends like SQLAlchemy\n",
    "    - Example: archtectiture type conversions... like Polars or Numpy"
   ]
  },
  {
   "cell_type": "code",
   "execution_count": 13,
   "id": "895c2d65",
   "metadata": {},
   "outputs": [
    {
     "data": {
      "text/plain": [
       "'State'"
      ]
     },
     "execution_count": 13,
     "metadata": {},
     "output_type": "execute_result"
    }
   ],
   "source": [
    "# A class for holding an employees content\n",
    "@dataclass(unsafe_hash=True)\n",
    "class employee:\n",
    " \n",
    "    # Attributes Declaration\n",
    "    # using Type Hints\n",
    "    name: str\n",
    "    age: int\n",
    "    emp_id: str\n",
    "    city: str = field(init=False, default=\"patna\", repr=True,\n",
    "                      metadata={'format': 'State'})\n",
    " \n",
    "emp = employee(\"Satyam\", \"ksatyam858\", 21)\n",
    "emp.__dataclass_fields__['city'].metadata['format']"
   ]
  },
  {
   "cell_type": "code",
   "execution_count": 14,
   "id": "e4dc3dbd",
   "metadata": {},
   "outputs": [],
   "source": [
    "emp2 = 'string'"
   ]
  },
  {
   "cell_type": "code",
   "execution_count": 15,
   "id": "9855d468",
   "metadata": {},
   "outputs": [
    {
     "name": "stdout",
     "output_type": "stream",
     "text": [
      "True\n",
      "False\n"
     ]
    }
   ],
   "source": [
    "# is_dataclass() just tells you if it's a dataclass\n",
    "print(is_dataclass(emp))\n",
    "print(is_dataclass(emp2))"
   ]
  },
  {
   "cell_type": "code",
   "execution_count": 16,
   "id": "2db4d469",
   "metadata": {},
   "outputs": [
    {
     "data": {
      "text/plain": [
       "True"
      ]
     },
     "execution_count": 16,
     "metadata": {},
     "output_type": "execute_result"
    }
   ],
   "source": [
    "# Python 3.12 documentation code\n",
    "def is_dataclass_instance(obj, dataclass_type = employee):\n",
    "    return is_dataclass(obj) and isinstance(obj, dataclass_type)\n",
    "\n",
    "is_dataclass_instance(emp)"
   ]
  },
  {
   "cell_type": "code",
   "execution_count": 17,
   "id": "060a7aa7",
   "metadata": {},
   "outputs": [
    {
     "data": {
      "text/plain": [
       "{'name': 'Satyam', 'age': 'ksatyam858', 'emp_id': 21, 'city': 'patna'}"
      ]
     },
     "execution_count": 17,
     "metadata": {},
     "output_type": "execute_result"
    }
   ],
   "source": [
    "asdict(emp)"
   ]
  },
  {
   "cell_type": "code",
   "execution_count": 18,
   "id": "c3c84896",
   "metadata": {},
   "outputs": [
    {
     "name": "stdout",
     "output_type": "stream",
     "text": [
      "100\n",
      "2\n"
     ]
    }
   ],
   "source": [
    "'''\n",
    "Direct Call\n",
    "The simplest and least common call is when user code directly invokes a descriptor method: x.__get__(a).\n",
    "\n",
    "Instance Binding\n",
    "If binding to an object instance, a.x is transformed into the call: type(a).__dict__['x'].__get__(a, type(a)).\n",
    "\n",
    "Class Binding\n",
    "If binding to a class, A.x is transformed into the call: A.__dict__['x'].__get__(None, A).\n",
    "\n",
    "Super Binding\n",
    "A dotted lookup such as super(A, a).x searches a.__class__.__mro__ for a base class B following A and then returns B.__dict__['x'].__get__(a, A). If not a descriptor, x is returned unchanged.\n",
    "\n",
    "'''\n",
    "class IntConversionDescriptor:\n",
    "    def __init__(self, *, default):\n",
    "        self._default = default\n",
    "\n",
    "    # Called when the code is initiated \n",
    "    def __set_name__(self, owner, name):\n",
    "        # This is the attribute name\n",
    "        self._name = \"_\" + name\n",
    "\n",
    "    # Called for everything\n",
    "    def __get__(self, obj, type):\n",
    "        if obj is None:\n",
    "            return self._default\n",
    "\n",
    "        return getattr(obj, self._name, self._default)\n",
    "\n",
    "    def __set__(self, obj, value):\n",
    "        setattr(obj, self._name, int(value))\n",
    "\n",
    "@dataclass\n",
    "class InventoryItem:\n",
    "    quantity_on_hand: IntConversionDescriptor = IntConversionDescriptor(default=100)\n",
    "\n",
    "i = InventoryItem()\n",
    "print(i.quantity_on_hand)   # 100\n",
    "i.quantity_on_hand = 2.5    # calls __set__ with 2.5\n",
    "print(i.quantity_on_hand)   # 2"
   ]
  },
  {
   "cell_type": "raw",
   "id": "9070eeb7",
   "metadata": {},
   "source": [
    "class SymmetricConversionDescriptor(AESCipher):\n",
    "    def __init__(self, key: str):\n",
    "        super().__init__(key)\n",
    "        print(self.key)\n",
    "        \n",
    "    def __set_name__(self, owner, name):\n",
    "        self._name = name\n",
    "        \n",
    "    def __get__(self, obj, type):\n",
    "        if obj is None:\n",
    "            return True\n",
    "        \n",
    "        return self.decrypt(getattr(obj, self._name, False))\n",
    "    \n",
    "    def __set__(self, obj, value):\n",
    "        setattr(obj, self._name, self.encrypt(value))\n",
    "        \n",
    "@dataclass\n",
    "class TestCrypto:\n",
    "    data: SymmetricConversionDescriptor = SymmetricConversionDescriptor('12345678')"
   ]
  },
  {
   "cell_type": "raw",
   "id": "682f5bae",
   "metadata": {},
   "source": [
    "i = TestCrypto('12345678')\n",
    "print(i.data)\n",
    "i.data = 'Hello'\n",
    "print(i.data)"
   ]
  },
  {
   "cell_type": "markdown",
   "id": "931ebfdb",
   "metadata": {},
   "source": [
    "### Python Docs\n",
    "- Descriptor-typed fields\n",
    "    - This is a non-pythonic solution of the same thing: https://www.harrisonmorgan.dev/2020/04/27/advanced-python-data-classes-custom-tools/\n",
    "    - https://docs.python.org/3/reference/datamodel.html#descriptors\n",
    "    - https://docs.python.org/3/library/dataclasses.html#descriptor-typed-fields\n",
    "    - https://docs.python.org/3/reference/datamodel.html#descriptor-invocation"
   ]
  }
 ],
 "metadata": {
  "kernelspec": {
   "display_name": "Python 3 (ipykernel)",
   "language": "python",
   "name": "python3"
  },
  "language_info": {
   "codemirror_mode": {
    "name": "ipython",
    "version": 3
   },
   "file_extension": ".py",
   "mimetype": "text/x-python",
   "name": "python",
   "nbconvert_exporter": "python",
   "pygments_lexer": "ipython3",
   "version": "3.10.12"
  }
 },
 "nbformat": 4,
 "nbformat_minor": 5
}
