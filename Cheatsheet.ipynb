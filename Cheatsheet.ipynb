{
 "cells": [
  {
   "cell_type": "code",
   "execution_count": 3,
   "id": "7cc0ed80",
   "metadata": {},
   "outputs": [],
   "source": [
    "from collections import defaultdict\n",
    "\n",
    "import heapq"
   ]
  },
  {
   "cell_type": "markdown",
   "id": "9d871931",
   "metadata": {},
   "source": [
    "# Cheatsheet\n",
    "## Code Templates\n",
    "- Two Pointers\n",
    "    1. One input, opposite ends (E)\n",
    "    2. Two inputs, exhaust both\n",
    "    3. Sliding Window"
   ]
  },
  {
   "cell_type": "markdown",
   "id": "4466321a",
   "metadata": {},
   "source": [
    "### Sliding Window"
   ]
  },
  {
   "cell_type": "code",
   "execution_count": 1,
   "id": "820b7315",
   "metadata": {},
   "outputs": [],
   "source": [
    "def fn(arr):\n",
    "    left = ans = curr = 0\n",
    "    \n",
    "    for right in range(len(arr)):\n",
    "        # do logic here to add arr[right] to curr\n",
    "        \n",
    "        while WINDOW_CONDITION_BROKEN:\n",
    "            # remove arr[left] from curr\n",
    "            left += 1\n",
    "            \n",
    "        # update ans\n",
    "        \n",
    "    return ans"
   ]
  },
  {
   "cell_type": "markdown",
   "id": "6bab1238",
   "metadata": {},
   "source": [
    "### Find Number Of Subarrays That Fit An Exact Criteria\n",
    "- Do more with this!!"
   ]
  },
  {
   "cell_type": "code",
   "execution_count": null,
   "id": "6a0cfc0f",
   "metadata": {},
   "outputs": [],
   "source": [
    "def fn(arr, k):\n",
    "    counts = defaultdict(int)\n",
    "    counts[0] = 1\n",
    "    ans = curr = 0\n",
    "    \n",
    "    for num in arr:\n",
    "        # do logic to change curr\n",
    "        ans += counts[curr - k]\n",
    "        counts[curr] += 1\n",
    "        \n",
    "    return ans"
   ]
  },
  {
   "cell_type": "markdown",
   "id": "8171f13c",
   "metadata": {},
   "source": [
    "### Find Top K Elements With Heap"
   ]
  },
  {
   "cell_type": "code",
   "execution_count": null,
   "id": "52900809",
   "metadata": {},
   "outputs": [],
   "source": [
    "def fn(arr, k):\n",
    "    heap = []\n",
    "    heapq.heapify(heap)\n",
    "    \n",
    "    for num in arr:\n",
    "        # Logic here\n",
    "        heapq.heappush(heap, (CRITERIA, num))\n",
    "        \n",
    "        if len(heap) > k:\n",
    "            heapq.heappop(heap)\n",
    "            \n",
    "    return [num for num in heap]"
   ]
  },
  {
   "cell_type": "markdown",
   "id": "02de314c",
   "metadata": {},
   "source": [
    "### Graphs\n",
    "- DFS: use stack and pop right\n",
    "- BFS: use deque and popleft"
   ]
  },
  {
   "cell_type": "code",
   "execution_count": null,
   "id": "d07158fa",
   "metadata": {},
   "outputs": [],
   "source": [
    "# Generic Graph DFS\n",
    "def fn(graph):\n",
    "    stack = [START_NODE]\n",
    "    seen = {START_NODE}\n",
    "    ans = 0\n",
    "    \n",
    "    while stack:\n",
    "        node = stack.pop()\n",
    "        \n",
    "        # LOGIC\n",
    "        \n",
    "        for neighbor in graph[node]:\n",
    "            if neighbor not in seen:\n",
    "                seen.add(neighbor)\n",
    "                stack.append(neighbor)\n",
    "                \n",
    "    return ans"
   ]
  },
  {
   "cell_type": "markdown",
   "id": "cb26ed43",
   "metadata": {},
   "source": [
    "### Binary Search Patterns\n",
    "#### Basic"
   ]
  },
  {
   "cell_type": "code",
   "execution_count": 5,
   "id": "bd1c4819",
   "metadata": {},
   "outputs": [],
   "source": [
    "def fn(arr, target):\n",
    "    left = 0\n",
    "    right = len(arr) - 1\n",
    "    \n",
    "    while left <= right:\n",
    "        mid = (left + right) // 2\n",
    "        \n",
    "        if arr[mid] == target:\n",
    "            # LOGIC\n",
    "            return \n",
    "        \n",
    "        if arr[mid] > target:\n",
    "            right = mid - 1\n",
    "        else:\n",
    "            left = mid + 1\n",
    "            \n",
    "    # left is the insertion point\n",
    "    return left"
   ]
  },
  {
   "cell_type": "markdown",
   "id": "c095f211",
   "metadata": {},
   "source": [
    "#### Duplicate Elements"
   ]
  },
  {
   "cell_type": "code",
   "execution_count": null,
   "id": "c5301b58",
   "metadata": {},
   "outputs": [],
   "source": [
    "# Left-Most Insertion Point\n",
    "def fn(arr, target):\n",
    "    left = 0\n",
    "    right = len(arr)\n",
    "    \n",
    "    while left < right:\n",
    "        mid = (left + right) // 2\n",
    "        \n",
    "        # Left-Most here\n",
    "        if arr[mid] >= target:\n",
    "            right = mid\n",
    "        else:\n",
    "            left = mid + 1\n",
    "    return left\n",
    "\n",
    "\"\"\"\n",
    "        # Right-Most Insertion Point\n",
    "        if arr[mid] > target:\n",
    "            right = mid\n",
    "        else:\n",
    "            left = mid + 1\n",
    "            \n",
    "    return left\n",
    "\"\"\""
   ]
  },
  {
   "cell_type": "markdown",
   "id": "cb37bc8e",
   "metadata": {},
   "source": [
    "#### Greedy Search"
   ]
  },
  {
   "cell_type": "code",
   "execution_count": null,
   "id": "bd83aaac",
   "metadata": {},
   "outputs": [],
   "source": [
    "def fn(arr):\n",
    "    def check(x):\n",
    "        # Problem Specfic\n",
    "        return BOOLEAN\n",
    "    \n",
    "    left = MIN_POSSIBLE\n",
    "    right = MAX_POSSIBLE\n",
    "    \n",
    "    while left <= right:\n",
    "        mid = (left + right) // 2\n",
    "        \n",
    "        # Changes here depending on if looking for min vs max.\n",
    "        ## This is for max        \n",
    "        if check(mid):\n",
    "            left = mid + 1\n",
    "        else:\n",
    "            right = mid - 1\n",
    "            \n",
    "    return right\n",
    "\n",
    "\"\"\"\n",
    "        # For min\n",
    "        if check(mid):\n",
    "            right = mid - 1\n",
    "        else:\n",
    "            left = mid + 1\n",
    "    \n",
    "    return left\n",
    "\"\"\""
   ]
  }
 ],
 "metadata": {
  "kernelspec": {
   "display_name": "python3.12-kernel",
   "language": "python",
   "name": "python3.12-kernel"
  },
  "language_info": {
   "codemirror_mode": {
    "name": "ipython",
    "version": 3
   },
   "file_extension": ".py",
   "mimetype": "text/x-python",
   "name": "python",
   "nbconvert_exporter": "python",
   "pygments_lexer": "ipython3",
   "version": "3.12.3"
  }
 },
 "nbformat": 4,
 "nbformat_minor": 5
}
