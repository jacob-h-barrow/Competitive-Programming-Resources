{
 "cells": [
  {
   "cell_type": "markdown",
   "id": "d835aa7e",
   "metadata": {},
   "source": [
    "# Dynamic Programming"
   ]
  },
  {
   "cell_type": "code",
   "execution_count": 2,
   "id": "600d0c17",
   "metadata": {},
   "outputs": [],
   "source": [
    "from typing import List"
   ]
  },
  {
   "cell_type": "markdown",
   "id": "f0c28be6",
   "metadata": {},
   "source": [
    "## Minimum Difficulty Of A Job Schedule"
   ]
  },
  {
   "cell_type": "code",
   "execution_count": 3,
   "id": "75794237",
   "metadata": {},
   "outputs": [],
   "source": [
    "class Solution:\n",
    "    def minDifficulty(self, jobDifficulty: List[int], d: int) -> int:\n",
    "        n = len(jobDifficulty)\n",
    "        # If we cannot schedule at least one job per day, \n",
    "        # it is impossible to create a schedule\n",
    "        if n < d:\n",
    "            return -1\n",
    "        \n",
    "        dp = [[float(\"inf\")] * (d + 1) for _ in range(n)]\n",
    "        \n",
    "        # Set base cases\n",
    "        dp[-1][d] = jobDifficulty[-1]\n",
    "\n",
    "        # On the last day, we must schedule all remaining jobs, so dp[i][d]\n",
    "        # is the maximum difficulty job remaining\n",
    "        for i in range(n - 2, -1, -1):\n",
    "            dp[i][d] = max(dp[i + 1][d], jobDifficulty[i])\n",
    "\n",
    "        for day in range(d - 1, 0, -1):\n",
    "            for i in range(day - 1, n - (d - day)):\n",
    "                hardest = 0\n",
    "                # Iterate through the options and choose the best\n",
    "                for j in range(i, n - (d - day)):\n",
    "                    hardest = max(hardest, jobDifficulty[j])\n",
    "                    # Recurrence relation\n",
    "                    dp[i][day] = min(dp[i][day], hardest + dp[j + 1][day + 1])\n",
    "\n",
    "        return dp[0][1]"
   ]
  },
  {
   "cell_type": "markdown",
   "id": "20670adb",
   "metadata": {},
   "source": [
    "## Coin Change"
   ]
  },
  {
   "cell_type": "code",
   "execution_count": 4,
   "id": "8e3fa653",
   "metadata": {},
   "outputs": [],
   "source": [
    "class Solution:\n",
    "    def coinChange(self, coins: List[int], amount: int) -> int:\n",
    "        # determine the number of coins required to get every value\n",
    "        #   between 0 and amount inclusive\n",
    "        #   Least number of coins calculate before larger for a value\n",
    "        q = deque([(0,0)]) # no value, no coinNum\n",
    "        visited = set()\n",
    "    \n",
    "        while q:\n",
    "            cur, coinNum = q.popleft()\n",
    "            if cur == amount:\n",
    "                return coinNum\n",
    "            if cur > amount:\n",
    "                continue\n",
    "            \n",
    "            for c in coins:\n",
    "                addCoin = cur + c\n",
    "                if addCoin not in visited:\n",
    "                    visited.add(addCoin)\n",
    "                    q.append((addCoin, coinNum+1))\n",
    "                    \n",
    "        return -1\n"
   ]
  },
  {
   "cell_type": "markdown",
   "id": "ffa2a5e0",
   "metadata": {},
   "source": [
    "## Word Break"
   ]
  },
  {
   "cell_type": "code",
   "execution_count": 6,
   "id": "5bfc87ab",
   "metadata": {},
   "outputs": [],
   "source": [
    "class Solution:\n",
    "    def wordBreak(self, s: str, wordDict: List[str]) -> bool:\n",
    "        words = set(wordDict)\n",
    "        memo = {}\n",
    "        def dp(index):\n",
    "            if index == len(s):\n",
    "                return True\n",
    "            if index in memo:\n",
    "                return memo[index]\n",
    "            \n",
    "            string = \"\"\n",
    "            for i in range(index, len(s)):\n",
    "                string += s[i]\n",
    "                if string in words:\n",
    "                    if dp(i + 1):\n",
    "                        memo[index] = True\n",
    "                        return True\n",
    "            memo[index] = False\n",
    "            return False\n",
    "        \n",
    "        return dp(0)\n",
    "\n",
    "# time and space complexity\n",
    "# time: O(n)\n",
    "# space: O(n)"
   ]
  },
  {
   "cell_type": "markdown",
   "id": "763af72f",
   "metadata": {},
   "source": [
    "## Longest Increasing Subsequence"
   ]
  },
  {
   "cell_type": "code",
   "execution_count": 7,
   "id": "a1a6f672",
   "metadata": {},
   "outputs": [],
   "source": [
    "class Solution:  # 2516 ms, faster than 64.96%\n",
    "    def lengthOfLIS(self, nums: List[int]) -> int:\n",
    "        n = len(nums)\n",
    "        dp = [1] * n\n",
    "        for i in range(n):\n",
    "            for j in range(i):\n",
    "                if nums[i] > nums[j] and dp[i] < dp[j] + 1:\n",
    "                    dp[i] = dp[j] + 1\n",
    "        return max(dp)"
   ]
  },
  {
   "cell_type": "markdown",
   "id": "d2e4d64d",
   "metadata": {},
   "source": [
    "## Best Time To Buy And Sell Stock IV"
   ]
  },
  {
   "cell_type": "code",
   "execution_count": 9,
   "id": "aa5d06db",
   "metadata": {},
   "outputs": [],
   "source": [
    "    def maxProfit(self, k, prices):\n",
    "        \"\"\"\n",
    "        :type k: int\n",
    "        :type prices: List[int]\n",
    "        :rtype: int\n",
    "        \"\"\"\n",
    "        #The problem is hard\n",
    "        #Time complexity, O(nk)\n",
    "        #Space complexity, O(nk)\n",
    "        length = len(prices)\n",
    "        if length < 2:\n",
    "            return 0\n",
    "        max_profit = 0\n",
    "        #if k>= n/2, then it can't complete k transactions. The problem becomes buy-and-sell problem 2\n",
    "        if k>=length/2:\n",
    "            for i in range(1,length):\n",
    "                max_profit += max(prices[i]-prices[i-1],0)\n",
    "            return max_profit\n",
    "\n",
    "        #max_global[i][j] is to store the maximum profit, at day j, and having i transactions already\n",
    "        #max_local[i][j] is to store the maximum profit at day j, having i transactions already, and having transaction at day j\n",
    "        max_global = [[0]*length for _ in range(k+1)]\n",
    "        max_local = [[0]*length for _ in range(k+1)]\n",
    "\n",
    "        #i indicates the transaction times, j indicates the times\n",
    "        for j in range(1,length):\n",
    "            cur_profit = prices[j]-prices[j-1] #variable introduced by the current day transaction\n",
    "            for i in range(1,k+1):\n",
    "                #max_global depends on max_local, so updata local first, and then global.\n",
    "                max_local[i][j] = max( max_global[i-1][j-1]+max(cur_profit,0), max_local[i][j-1] + cur_profit)\n",
    "                #if cur_profit <0, then the current transaction loses money, so max_local[i][j] = max_global[i-1][j-1]\n",
    "                #else, it can be max_global[i-1][j-1] + cur_profit, by considering the current transaction\n",
    "                #or it can be max_local[i][j-1] + cur_profit, this is to CANCEL the last day transaction and moves to the current transaction. Note this doesn't change the total number of transactions. Also, max_local[i-1] has already been considered by max_global[i-1] term\n",
    "                max_global[i][j] = max(max_global[i][j-1], max_local[i][j])\n",
    "                #This is more obvious, by looking at whether transaction on day j has influenced max_global or not. \n",
    "        return max_global[k][-1] #the last day, the last transaction"
   ]
  },
  {
   "cell_type": "markdown",
   "id": "50068e4c",
   "metadata": {},
   "source": [
    "## Unique Paths II"
   ]
  },
  {
   "cell_type": "code",
   "execution_count": 10,
   "id": "42a8208a",
   "metadata": {},
   "outputs": [],
   "source": [
    "class Solution:\n",
    "    # in place\n",
    "    def uniquePathsWithObstacles(self, obstacleGrid):\n",
    "        if not obstacleGrid:\n",
    "            return \n",
    "        r, c = len(obstacleGrid), len(obstacleGrid[0])\n",
    "        obstacleGrid[0][0] = 1 - obstacleGrid[0][0]\n",
    "        for i in range(1, r):\n",
    "            obstacleGrid[i][0] = obstacleGrid[i-1][0] * (1 - obstacleGrid[i][0])\n",
    "        for i in range(1, c):\n",
    "            obstacleGrid[0][i] = obstacleGrid[0][i-1] * (1 - obstacleGrid[0][i])\n",
    "        for i in range(1, r):\n",
    "            for j in range(1, c):\n",
    "                obstacleGrid[i][j] = (obstacleGrid[i-1][j] + obstacleGrid[i][j-1]) * (1 - obstacleGrid[i][j])\n",
    "        return obstacleGrid[-1][-1]"
   ]
  },
  {
   "cell_type": "markdown",
   "id": "e1121fee",
   "metadata": {},
   "source": [
    "## Minimum Falling Path Sum"
   ]
  },
  {
   "cell_type": "code",
   "execution_count": 12,
   "id": "61202f21",
   "metadata": {},
   "outputs": [],
   "source": [
    "#this problem will use DP \n",
    "#by taking the minimum value from itself plus one of the 3 values right above it\n",
    "\n",
    "#EX: \n",
    "# 1  2  3   \n",
    "# 4  5  6  \n",
    "# 7  8  9 \n",
    "\n",
    "# new value for number at A[1][1] will be  min(5 + 1, 5 + 2, 5 + 3)\n",
    "# therefore it will be 5 + 1 = 6, and 6 will then replace the value at A[1][1]\n",
    "\n",
    "#new value for number at A[1][0] will be  min(4 + 1, 4 + 2) = 5\n",
    "#it will only have two values to compare since there is no upper left value\n",
    "\n",
    "#new value for number at A[1][2] will be  min(6 + 2, 6 + 3) = 8\n",
    "#it will only have two values to compare since there is no upper right value\n",
    "\n",
    "def minFallingPathSum(A: List[List[int]]) -> int:\n",
    "    for i in range(1,len(A)):\n",
    "        for j in range(len(A[0])):\n",
    "\n",
    "            #edge cases are first column and last column which only have two paths from above\n",
    "            if j == 0:\n",
    "                A[i][j]  = min((A[i][j] + A[i - 1][j]), (A[i][j] + A[i - 1][j + 1]) )\n",
    "\n",
    "            elif (j == len(A[0]) - 1):\n",
    "                A[i][j]  = min((A[i][j] + A[i - 1][j]), (A[i][j] + A[i - 1][j - 1]) )\n",
    "\n",
    "            #every other column will have three paths coming from above\n",
    "            else:\n",
    "                A[i][j] = min(A[i][j] + A[i - 1][j],A[i][j] + A[i - 1][j + 1], A[i][j] + A[i - 1][j - 1])\n",
    "        \n",
    "    # Now that minimum falling sums for each value at the bottom row have been computer\n",
    "    # We can just take the min of the bottow row to get the smallest overall path sum \n",
    "    return min(A[len(A) - 1])"
   ]
  },
  {
   "cell_type": "markdown",
   "id": "d5168213",
   "metadata": {},
   "source": [
    "## Erect The Fence"
   ]
  },
  {
   "cell_type": "code",
   "execution_count": 13,
   "id": "41834df2",
   "metadata": {},
   "outputs": [],
   "source": [
    "def outerTrees(self, trees: List[List[int]]) -> List[float]:\n",
    "    def circle_less_than_3pts(pts): # draw circle for <=3 points\n",
    "        if not pts:\n",
    "            return 0,0,0\n",
    "        if len(pts)==1:\n",
    "            return pts[0][0],pts[0][1],0\n",
    "        elif len(pts)==2:\n",
    "            (x0, y0), (x1, y1) = pts\n",
    "            return ((x0+x1)/2, (y0+y1)/2, sqrt((x0-x1)**2+(y0-y1)**2)/2)\n",
    "        elif len(pts)==3:\n",
    "            (x0, y0), (x1, y1), (x2, y2) = pts\n",
    "            A = x0*(y1-y2)-y0*(x1-x2)+x1*y2-x2*y1\n",
    "            B = (x0*x0+y0*y0)*(y2-y1)+(x1*x1+y1*y1)*(y0-y2)+(x2*x2+y2*y2)*(y1-y0)\n",
    "            C = (x0*x0+y0*y0)*(x1-x2)+(x1*x1+y1*y1)*(x2-x0)+(x2*x2+y2*y2)*(x0-x1)\n",
    "            D = (x0*x0+y0*y0)*(x2*y1-x1*y2) \\\n",
    "                +(x1*x1+y1*y1)*(x0*y2-x2*y0) \\\n",
    "                +(x2*x2+y2*y2)*(x1*y0-x0*y1)\n",
    "            return (-B/(2*A),-C/(2*A),sqrt((B*B+C*C-4*A*D)/(4*A*A)))\n",
    "\n",
    "    def welzl(pts, pt_on_edge):\n",
    "        if len(pt_on_edge)==3 or not pts: \n",
    "            return circle_less_than_3pts(pt_on_edge)\n",
    "        exclude_pt = pts.pop() # exclude one random point. \n",
    "        x,y,r = welzl(pts, pt_on_edge)\n",
    "        if (exclude_pt[0]-x)**2+(exclude_pt[1]-y)**2<=r**2:\n",
    "            res = x,y,r\n",
    "        else:\n",
    "            res = welzl(pts,pt_on_edge+[exclude_pt]) # 'exclude_pt' must lie on circle edge\n",
    "        pts.append(exclude_pt) # backtracking putting removed point back.\n",
    "        return res\n",
    "\n",
    "    trees = list(set((x,y) for x,y in trees))\n",
    "    shuffle(trees)\n",
    "    return welzl(trees,[])"
   ]
  }
 ],
 "metadata": {
  "kernelspec": {
   "display_name": "Python 3 (ipykernel)",
   "language": "python",
   "name": "python3"
  },
  "language_info": {
   "codemirror_mode": {
    "name": "ipython",
    "version": 3
   },
   "file_extension": ".py",
   "mimetype": "text/x-python",
   "name": "python",
   "nbconvert_exporter": "python",
   "pygments_lexer": "ipython3",
   "version": "3.8.10"
  }
 },
 "nbformat": 4,
 "nbformat_minor": 5
}
