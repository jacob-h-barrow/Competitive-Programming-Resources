{
 "cells": [
  {
   "cell_type": "markdown",
   "id": "fb6f5dcc",
   "metadata": {},
   "source": [
    "# Arrays and Things\n",
    "## Arrays"
   ]
  },
  {
   "cell_type": "code",
   "execution_count": 1,
   "id": "e1837377",
   "metadata": {},
   "outputs": [],
   "source": [
    "from typing import List, Tuple, Optional\n",
    "from collections import defaultdict"
   ]
  },
  {
   "cell_type": "code",
   "execution_count": 4,
   "id": "2cbf3bd5",
   "metadata": {},
   "outputs": [],
   "source": [
    "type Numbers = List[int | float]\n",
    "type Matrix = List[Numbers]"
   ]
  },
  {
   "cell_type": "markdown",
   "id": "d694b271",
   "metadata": {},
   "source": [
    "## Arrays\n",
    "### Duplicate Zeroes\n",
    "- Given a fixed-length integer array arr, duplicate each occurrence of zero, shifting the remaining elements to the right.\n",
    "- Note that elements beyond the length of the original array are not written. Do the above modifications to the input array in place and do not return anything."
   ]
  },
  {
   "cell_type": "code",
   "execution_count": null,
   "id": "e6a480e6",
   "metadata": {},
   "outputs": [],
   "source": [
    "def duplicateZeros(arr: Numbers) -> None:\n",
    "    zeroes = arr.count(0)\n",
    "    n = len(arr)\n",
    "    \n",
    "    for i in range(n-1, -1, -1):\n",
    "        if i + zeroes < n:\n",
    "            arr[i + zeroes] = arr[i]\n",
    "        if arr[i] == 0: \n",
    "            zeroes -= 1\n",
    "            if i + zeroes < n:\n",
    "                arr[i + zeroes] = 0"
   ]
  },
  {
   "cell_type": "markdown",
   "id": "16f62de5",
   "metadata": {},
   "source": [
    "### Merge Sort\n",
    "- You are given two integer arrays nums1 and nums2, sorted in non-decreasing order, and two integers m and n, representing the number of elements in nums1 and nums2 respectively.\n",
    "\n",
    "- Merge nums1 and nums2 into a nums1 sorted in non-decreasing order."
   ]
  },
  {
   "cell_type": "code",
   "execution_count": null,
   "id": "b765b00d",
   "metadata": {},
   "outputs": [],
   "source": [
    "def merge(self, nums1: List[int], m: int, nums2: List[int], n: int) -> None:\n",
    "    p1 = m - 1\n",
    "    p2 = n - 1\n",
    "\n",
    "    for p in range(n + m - 1, -1, -1):\n",
    "        if p2 < 0:\n",
    "            break\n",
    "        if p1 >= 0 and nums1[p1] > nums2[p2]:\n",
    "            nums1[p] = nums1[p1]\n",
    "            p1 -= 1\n",
    "        else:\n",
    "            nums1[p] = nums2[p2]\n",
    "            p2 -= 1"
   ]
  },
  {
   "cell_type": "markdown",
   "id": "5eaaa1cb",
   "metadata": {},
   "source": [
    "### Move Zeroes\n",
    "- Given an integer array nums, move all 0's to the end of it while maintaining the relative order of the non-zero elements."
   ]
  },
  {
   "cell_type": "code",
   "execution_count": null,
   "id": "d09b9968",
   "metadata": {},
   "outputs": [],
   "source": [
    "def moveZeroes(self, nums: List[int]) -> None:\n",
    "    length = len(nums)\n",
    "    ptr = 0\n",
    "    \n",
    "    for idx in range(len(nums)):\n",
    "        if nums[idx]:\n",
    "            nums[ptr] = nums[idx]\n",
    "            ptr += 1\n",
    "    \n",
    "    for idx in range(length - ptr):\n",
    "        nums[idx + ptr] = 0"
   ]
  },
  {
   "cell_type": "markdown",
   "id": "7764ddb0",
   "metadata": {},
   "source": [
    "### Sort By Parity\n",
    "- Given an integer array nums, move all the even integers at the beginning of the array followed by all the odd integers.\n",
    "- Return any array that satisfies this condition."
   ]
  },
  {
   "cell_type": "code",
   "execution_count": null,
   "id": "4a090d52",
   "metadata": {},
   "outputs": [],
   "source": [
    "def sortArrayByParity(nums: Numbers) -> Numbers:\n",
    "    even_index = 0 \n",
    "\n",
    "    for i in range(len(nums)):\n",
    "        if nums[i] % 2 == 0:\n",
    "            nums[i], nums[even_index] = nums[even_index], nums[i]\n",
    "            even_index += 1\n",
    "\n",
    "    return nums"
   ]
  },
  {
   "cell_type": "markdown",
   "id": "c72fb162",
   "metadata": {},
   "source": [
    "### Minimum Size Subarray Sum\n",
    "- Given an array of positive integers nums and a positive integer target, return the minimal length of a subarray whose sum is greater than or equal to target. If there is no such subarray, return 0 instead."
   ]
  },
  {
   "cell_type": "code",
   "execution_count": 5,
   "id": "d10f3ed5",
   "metadata": {},
   "outputs": [],
   "source": [
    "def min_sub_array_len(target: int, nums: Numbers) -> int:\n",
    "    n = len(nums)\n",
    "    ans = float('inf')\n",
    "    left = 0\n",
    "    sum_ = 0\n",
    "\n",
    "    for i in range(n):\n",
    "        sum_ += nums[i]\n",
    "\n",
    "        while sum_ >= target:\n",
    "            ans = min(ans, i + 1 - left)\n",
    "            sum_ -= nums[left]\n",
    "            left += 1\n",
    "\n",
    "    return ans if ans != float('inf') else 0"
   ]
  },
  {
   "cell_type": "markdown",
   "id": "8f0d0939",
   "metadata": {},
   "source": [
    "### Two Sum\n",
    "- Given a sorted, non-decreasing container of elements, find if two items add up to the target "
   ]
  },
  {
   "cell_type": "code",
   "execution_count": 6,
   "id": "e5a5c1c5",
   "metadata": {},
   "outputs": [],
   "source": [
    "# The numbers array is already sorted!\n",
    "def two_sum(numbers: Numbers, target: int) -> Numbers:\n",
    "    left, right = 0, len(numbers)-1\n",
    "\n",
    "    while left < right:\n",
    "\n",
    "        sum = numbers[left] + numbers[right]\n",
    "\n",
    "        if sum > target:\n",
    "            right -= 1\n",
    "        elif sum < target:\n",
    "            left += 1 \n",
    "        else:\n",
    "            return left + 1, right + 1"
   ]
  },
  {
   "cell_type": "markdown",
   "id": "b60e5cd4",
   "metadata": {},
   "source": [
    "### Pivot Index\n",
    "- Given an array of integers nums, calculate the pivot index of this array.\n",
    "\n",
    "- The pivot index is the index where the sum of all the numbers strictly to the left of the index is equal to the sum of all the numbers strictly to the index's right.\n",
    "\n",
    "- If the index is on the left edge of the array, then the left sum is 0 because there are no elements to the left. This also applies to the right edge of the array.\n",
    "\n",
    "- Return the leftmost pivot index. If no such index exists, return -1."
   ]
  },
  {
   "cell_type": "code",
   "execution_count": null,
   "id": "1098782e",
   "metadata": {},
   "outputs": [],
   "source": [
    "# Given an m x n matrix, return all elements of the matrix in s\n",
    "def pivot_index(nums: Numbers) -> int:\n",
    "    left_sum = 0\n",
    "    right_sum = sum(nums)\n",
    "    \n",
    "    for idx, ele in enumerate(nums):\n",
    "        right_sum = right_sum - ele\n",
    "        \n",
    "        if left_sum == right_sum:\n",
    "            return idx\n",
    "        \n",
    "        left_sum = left_sum + ele\n",
    "    \n",
    "    return -1"
   ]
  },
  {
   "cell_type": "markdown",
   "id": "3abd5451",
   "metadata": {},
   "source": [
    "### Diagonal Traverse\n",
    "- Given an m x n matrix mat, return an array of all the elements of the array in a diagonal order."
   ]
  },
  {
   "cell_type": "code",
   "execution_count": null,
   "id": "a1fb4159",
   "metadata": {},
   "outputs": [],
   "source": [
    "def diagonal_traverse(matrix: Matrix) -> Numbers:\n",
    "    # Check for an empty matrix\n",
    "    if not matrix or not matrix[0]:\n",
    "        return []\n",
    "\n",
    "    # The dimensions of the matrix\n",
    "    N, M = len(matrix), len(matrix[0])\n",
    "\n",
    "    # Incides that will help us progress through \n",
    "    # the matrix, one element at a time.\n",
    "    row, column = 0, 0\n",
    "\n",
    "    # As explained in the article, this is the variable\n",
    "    # that helps us keep track of what direction we are\n",
    "    # processing the current diaonal\n",
    "    direction = 1\n",
    "\n",
    "    # Final result array that will contain all the elements\n",
    "    # of the matrix\n",
    "    result = []\n",
    "\n",
    "    # The uber while loop which will help us iterate over all\n",
    "    # the elements in the array.\n",
    "    while row < N and column < M:\n",
    "\n",
    "        # First and foremost, add the current element to \n",
    "        # the result matrix. \n",
    "        result.append(matrix[row][column])\n",
    "\n",
    "        # Move along in the current diagonal depending upon\n",
    "        # the current direction.[i, j] -> [i - 1, j + 1] if \n",
    "        # going up and [i, j] -> [i + 1][j - 1] if going down.\n",
    "        new_row = row + (-1 if direction == 1 else 1)\n",
    "        new_column = column + (1 if direction == 1 else -1)\n",
    "\n",
    "        # Checking if the next element in the diagonal is within the\n",
    "        # bounds of the matrix or not. If it's not within the bounds,\n",
    "        # we have to find the next head. \n",
    "        if new_row < 0 or new_row == N or new_column < 0 or new_column == M:\n",
    "\n",
    "            # If the current diagonal was going in the upwards\n",
    "            # direction.\n",
    "            if direction:\n",
    "\n",
    "                # For an upwards going diagonal having [i, j] as its tail\n",
    "                # If [i, j + 1] is within bounds, then it becomes\n",
    "                # the next head. Otherwise, the element directly below\n",
    "                # i.e. the element [i + 1, j] becomes the next head\n",
    "                row += (column == M - 1)\n",
    "                column += (column < M - 1)\n",
    "            else:\n",
    "\n",
    "                # For a downwards going diagonal having [i, j] as its tail\n",
    "                # if [i + 1, j] is within bounds, then it becomes\n",
    "                # the next head. Otherwise, the element directly below\n",
    "                # i.e. the element [i, j + 1] becomes the next head\n",
    "                column += (row == N - 1)\n",
    "                row += (row < N - 1)\n",
    "\n",
    "            # Flip the direction\n",
    "            direction = 1 - direction        \n",
    "        else:\n",
    "            row = new_row\n",
    "            column = new_column\n",
    "\n",
    "    return result   "
   ]
  },
  {
   "cell_type": "markdown",
   "id": "cc389658",
   "metadata": {},
   "source": [
    "### Spiral Matrix\n",
    "- Given an m x n matrix, return all elements of the matrix in spiral order"
   ]
  },
  {
   "cell_type": "code",
   "execution_count": null,
   "id": "d053ba8a",
   "metadata": {},
   "outputs": [],
   "source": [
    "def spiral_order(matrix: Matrix) -> Numbers:\n",
    "    # matrix constrained to -100 <= matrix[row][col] <= 100\n",
    "    VISITED = 101\n",
    "    rows, columns = len(matrix), len(matrix[0])\n",
    "    # Four directions that we will move: right, down, left, up.\n",
    "    directions = [(0, 1), (1, 0), (0, -1), (-1, 0)]\n",
    "    # Initial direction: moving right.\n",
    "    current_direction = 0\n",
    "    # The number of times we change the direction.\n",
    "    change_direction = 0\n",
    "    # Current place that we are at is (row, col).\n",
    "    # row is the row index; col is the column index.\n",
    "    row = col = 0\n",
    "    # Store the first element and mark it as visited.\n",
    "    result = [matrix[0][0]]\n",
    "    matrix[0][0] = VISITED\n",
    "\n",
    "    # If changeDirection is larger than 1, it means we are continuously changing our directions, \n",
    "    ## and therefore we've visited all of the elements.\n",
    "    while change_direction < 2:\n",
    "\n",
    "        while True:\n",
    "            # Calculate the next place that we will move to.\n",
    "            next_row = row + directions[current_direction][0]\n",
    "            next_col = col + directions[current_direction][1]\n",
    "\n",
    "            # Break if the next step is out of bounds.\n",
    "            if not (0 <= next_row < rows and 0 <= next_col < columns):\n",
    "                break\n",
    "            # Break if the next step is on a visited cell.\n",
    "            if matrix[next_row][next_col] == VISITED:\n",
    "                break\n",
    "\n",
    "            # Reset this to 0 since we did not break and change the direction.\n",
    "            change_direction = 0\n",
    "            # Update our current position to the next step.\n",
    "            row, col = next_row, next_col\n",
    "            result.append(matrix[row][col])\n",
    "            matrix[row][col] = VISITED\n",
    "\n",
    "        # Change our direction.\n",
    "        current_direction = (current_direction + 1) % 4\n",
    "        # Increment change_direction because we changed our direction.\n",
    "        change_direction += 1\n",
    "\n",
    "    return result"
   ]
  }
 ],
 "metadata": {
  "kernelspec": {
   "display_name": "Python 3",
   "language": "python",
   "name": "python3"
  },
  "language_info": {
   "codemirror_mode": {
    "name": "ipython",
    "version": 3
   },
   "file_extension": ".py",
   "mimetype": "text/x-python",
   "name": "python",
   "nbconvert_exporter": "python",
   "pygments_lexer": "ipython3",
   "version": "3.12.3"
  }
 },
 "nbformat": 4,
 "nbformat_minor": 5
}
