{
 "cells": [
  {
   "cell_type": "markdown",
   "metadata": {},
   "source": [
    "# Rustic Arrays\n",
    "## Find Max Consecutive Ones"
   ]
  },
  {
   "cell_type": "code",
   "execution_count": null,
   "metadata": {
    "vscode": {
     "languageId": "plaintext"
    }
   },
   "outputs": [],
   "source": [
    "pub fn find_max_consecutive_ones(nums: Vec<i32>) -> i32 {\n",
    "    let (mut maxer, mut curr) = (0, 0);\n",
    "    \n",
    "    for num in nums {\n",
    "        if num == 1 {\n",
    "            curr += 1;\n",
    "            maxer = maxer.max(curr);\n",
    "        } else {\n",
    "            curr = 0;\n",
    "        }\n",
    "    }\n",
    "    \n",
    "    maxer\n",
    "}"
   ]
  },
  {
   "cell_type": "markdown",
   "metadata": {},
   "source": [
    "## Find Number with Even Number of Digits"
   ]
  },
  {
   "cell_type": "code",
   "execution_count": null,
   "metadata": {
    "vscode": {
     "languageId": "plaintext"
    }
   },
   "outputs": [],
   "source": [
    "pub fn find_numbers(nums: Vec<i32>) -> i32 {\n",
    "    nums.iter().filter(|n| n.to_string().len() % 2 == 0).count() as i32\n",
    "}"
   ]
  },
  {
   "cell_type": "markdown",
   "metadata": {},
   "source": [
    "## Squares of a Sorted Array"
   ]
  },
  {
   "cell_type": "code",
   "execution_count": null,
   "metadata": {
    "vscode": {
     "languageId": "plaintext"
    }
   },
   "outputs": [],
   "source": [
    "pub fn sorted_squares(mut nums: Vec<i32>) -> Vec<i32> {\n",
    "    nums.iter_mut().for_each(|x| *x *= *x);\n",
    "    nums.sort();\n",
    "    nums\n",
    "}"
   ]
  },
  {
   "cell_type": "markdown",
   "metadata": {},
   "source": [
    "## Check if N and its Double Exists"
   ]
  },
  {
   "cell_type": "code",
   "execution_count": null,
   "metadata": {
    "vscode": {
     "languageId": "plaintext"
    }
   },
   "outputs": [],
   "source": [
    "use std::collections::HashSet;\n",
    "\n",
    "pub fn check_if_exist(arr: Vec<i32>) -> bool {\n",
    "    let mut seen = HashSet::new();\n",
    "    let mut zero_count = 0;\n",
    "    \n",
    "    for &num in &arr {\n",
    "        if num == 0 {\n",
    "            zero_count += 1;\n",
    "            if zero_count > 1 {\n",
    "                return true;\n",
    "            }\n",
    "        } else if seen.contains(&(num * 2)) || (num % 2 == 0 && seen.contains(&(num / 2))) {\n",
    "            return true;\n",
    "        }\n",
    "        seen.insert(num);\n",
    "    }\n",
    "    \n",
    "    false\n",
    "}"
   ]
  },
  {
   "cell_type": "markdown",
   "metadata": {},
   "source": [
    "## Replace Elements with Greater Right"
   ]
  },
  {
   "cell_type": "code",
   "execution_count": null,
   "metadata": {
    "vscode": {
     "languageId": "plaintext"
    }
   },
   "outputs": [],
   "source": [
    "pub fn replace_elements(mut arr: Vec<i32>) -> Vec<i32> {\n",
    "    let mut max_right = -1;\n",
    "    \n",
    "    for i in (0..arr.len()).rev() {\n",
    "        let tmp = arr[i]; // Store the current value\n",
    "        arr[i] = max_right; // Replace with max_right\n",
    "        max_right = max_right.max(tmp); // Update max_right\n",
    "    }\n",
    "    \n",
    "    arr\n",
    "}"
   ]
  },
  {
   "cell_type": "markdown",
   "metadata": {},
   "source": [
    "## Remove Duplicates from Sorted Array"
   ]
  },
  {
   "cell_type": "code",
   "execution_count": null,
   "metadata": {
    "vscode": {
     "languageId": "plaintext"
    }
   },
   "outputs": [],
   "source": [
    "pub fn remove_duplicates(nums: &mut Vec<i32>) -> i32 {\n",
    "    let mut ptr = 1;\n",
    "    \n",
    "    for idx in 1..nums.len() {\n",
    "        if nums[ptr - 1] != nums[idx] {\n",
    "            nums[ptr] = nums[idx];\n",
    "            ptr += 1;\n",
    "        }\n",
    "    }\n",
    "    \n",
    "    if nums.len() > 0 {ptr as i32} else {0}\n",
    "}"
   ]
  },
  {
   "cell_type": "markdown",
   "metadata": {},
   "source": [
    "## Move Zeroes"
   ]
  },
  {
   "cell_type": "code",
   "execution_count": null,
   "metadata": {
    "vscode": {
     "languageId": "plaintext"
    }
   },
   "outputs": [],
   "source": [
    "pub fn move_zeroes(nums: &mut Vec<i32>) {\n",
    "    let mut ptr = 0;\n",
    "    \n",
    "    // Move nonzero elements forward\n",
    "    for i in 0..nums.len() {\n",
    "        if nums[i] != 0 {\n",
    "            nums[ptr] = nums[i];\n",
    "            ptr += 1;\n",
    "        }\n",
    "    }\n",
    "    \n",
    "    // Fill remaining positions with zero\n",
    "    for i in ptr..nums.len() {\n",
    "        nums[i] = 0;\n",
    "    }\n",
    "}"
   ]
  },
  {
   "cell_type": "markdown",
   "metadata": {},
   "source": [
    "## Sort Array By Parity"
   ]
  },
  {
   "cell_type": "code",
   "execution_count": null,
   "metadata": {
    "vscode": {
     "languageId": "plaintext"
    }
   },
   "outputs": [],
   "source": [
    "pub fn sort_array_by_parity(mut nums: Vec<i32>) -> Vec<i32> {\n",
    "    nums.sort_by_key(|&x| x % 2 != 0);\n",
    "    nums\n",
    "}"
   ]
  },
  {
   "cell_type": "markdown",
   "metadata": {},
   "source": [
    "## Remove Element"
   ]
  },
  {
   "cell_type": "code",
   "execution_count": null,
   "metadata": {
    "vscode": {
     "languageId": "plaintext"
    }
   },
   "outputs": [],
   "source": [
    "pub fn remove_element(nums: &mut Vec<i32>, val: i32) -> i32 {\n",
    "    let mut ptr: usize = 0;\n",
    "    \n",
    "    for idx in 0..nums.len() {\n",
    "        if nums[idx] != val {\n",
    "            nums[ptr] = nums[idx];\n",
    "            ptr += 1;\n",
    "        }\n",
    "    }\n",
    "    \n",
    "    ptr as i32\n",
    "}"
   ]
  }
 ],
 "metadata": {
  "language_info": {
   "name": "python"
  }
 },
 "nbformat": 4,
 "nbformat_minor": 2
}
