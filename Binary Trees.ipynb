{
 "cells": [
  {
   "cell_type": "markdown",
   "id": "91009403",
   "metadata": {},
   "source": [
    "# Binary Trees\n",
    "## Ways to Traverse a Tree\n",
    "1. Pre-order: root first, left subtree then right\n",
    "2. In-order: left subtree, root, then right subtree\n",
    "3. Post-order: left subtree, right subtree, root\n",
    "4. Level-order: do a BFS in a tree, with the order of nodes we visited is in order"
   ]
  },
  {
   "cell_type": "markdown",
   "id": "6fa1f899",
   "metadata": {},
   "source": [
    "## Background"
   ]
  },
  {
   "cell_type": "code",
   "execution_count": 1,
   "id": "d3d0b858",
   "metadata": {},
   "outputs": [],
   "source": [
    "from typing import Optional\n",
    "from collections import deque"
   ]
  },
  {
   "cell_type": "code",
   "execution_count": 2,
   "id": "45b30a6a",
   "metadata": {},
   "outputs": [],
   "source": [
    "class TreeNode(object):\n",
    "    def __init__(self, x):\n",
    "        self.val = x\n",
    "        self.left = None\n",
    "        self.right = None"
   ]
  },
  {
   "cell_type": "markdown",
   "id": "dd2a3a0f",
   "metadata": {},
   "source": [
    "## Basic Traversal\n",
    "- Pre, post, and in order are pretty much the same. Only iteratives shown\n",
    "- All provide an advanced solution without the need of a stack: Morris Traversal\n",
    "    - This is important but outside the scope of my interview prep\n",
    "\n",
    "### Pre-Order Traversal"
   ]
  },
  {
   "cell_type": "code",
   "execution_count": 3,
   "id": "8c5a01a1",
   "metadata": {},
   "outputs": [],
   "source": [
    "def preorder_traversal(root: TreeNode) -> list[int]:\n",
    "    if root is None:\n",
    "        return []\n",
    "\n",
    "    stack, output = [root], []\n",
    "\n",
    "    while stack:\n",
    "        root = stack.pop()\n",
    "        \n",
    "        if root is not None:\n",
    "            output.append(root.val)\n",
    "            \n",
    "            if root.right is not None:\n",
    "                stack.append(root.right)\n",
    "                \n",
    "            if root.left is not None:\n",
    "                stack.append(root.left)\n",
    "\n",
    "    return output"
   ]
  },
  {
   "cell_type": "markdown",
   "id": "3047bf6a",
   "metadata": {},
   "source": [
    "### Post-Order Traversal"
   ]
  },
  {
   "cell_type": "code",
   "execution_count": 4,
   "id": "a5e53f8c",
   "metadata": {},
   "outputs": [],
   "source": [
    "def postorderTraversal(root: Optional[TreeNode]) -> list[int]:\n",
    "    result = []\n",
    "\n",
    "    if root is None:\n",
    "        return result\n",
    "\n",
    "    previous_node = None\n",
    "    traversal_stack = []\n",
    "\n",
    "    while root is not None or len(traversal_stack) > 0:\n",
    "        if root is not None:\n",
    "            traversal_stack.append(root)\n",
    "            root = root.left\n",
    "        else:\n",
    "            root = traversal_stack[-1]\n",
    "\n",
    "            if root.right is None or root.right == previous_node:\n",
    "                result.append(root.val)\n",
    "                traversal_stack.pop()\n",
    "                previous_node = root\n",
    "                root = None  # Ensure we don’t traverse again from this node\n",
    "            else:\n",
    "                root = root.right\n",
    "\n",
    "    return result"
   ]
  },
  {
   "cell_type": "markdown",
   "id": "2eba937a",
   "metadata": {},
   "source": [
    "### In-Order Traversal"
   ]
  },
  {
   "cell_type": "code",
   "execution_count": 5,
   "id": "76df5d3f",
   "metadata": {},
   "outputs": [],
   "source": [
    "def inorderTraversal(root):\n",
    "    res = []\n",
    "    stack = []\n",
    "    curr = root\n",
    "    \n",
    "    while curr or stack:\n",
    "        while curr:\n",
    "            stack.append(curr)\n",
    "            curr = curr.left\n",
    "            \n",
    "        curr = stack.pop()\n",
    "        res.append(curr.val)\n",
    "        curr = curr.right\n",
    "        \n",
    "    return res"
   ]
  },
  {
   "cell_type": "markdown",
   "id": "42a73fd1",
   "metadata": {},
   "source": [
    "### Level-Order Traversal"
   ]
  },
  {
   "cell_type": "code",
   "execution_count": 6,
   "id": "e0b050e7",
   "metadata": {},
   "outputs": [],
   "source": [
    "def levelOrder(root: TreeNode) -> list[list[int]]:\n",
    "    levels = []\n",
    "    \n",
    "    if not root:\n",
    "        return levels\n",
    "\n",
    "    level = 0\n",
    "    queue = deque([root])\n",
    "    \n",
    "    while queue:\n",
    "        levels.append([])\n",
    "        level_length = len(queue)\n",
    "\n",
    "        for _ in range(level_length):\n",
    "            node = queue.popleft()\n",
    "\n",
    "            levels[level].append(node.val)\n",
    "\n",
    "            if node.left:\n",
    "                queue.append(node.left)\n",
    "            if node.right:\n",
    "                queue.append(node.right)\n",
    "\n",
    "        level += 1\n",
    "\n",
    "    return levels"
   ]
  },
  {
   "cell_type": "markdown",
   "id": "c35970d6",
   "metadata": {},
   "source": [
    "## Problems\n",
    "### Max-Depth"
   ]
  },
  {
   "cell_type": "code",
   "execution_count": 7,
   "id": "bc66d393",
   "metadata": {},
   "outputs": [],
   "source": [
    "def maxDepth(root: TreeNode) -> int:\n",
    "    stack = []\n",
    "    depth = 0\n",
    "    \n",
    "    if root is not None:\n",
    "        stack.append((1, root))\n",
    "\n",
    "    while stack != []:\n",
    "        current_depth, root = stack.pop()\n",
    "        \n",
    "        if root is not None:\n",
    "            depth = max(depth, current_depth)\n",
    "            stack.append((current_depth + 1, root.left))\n",
    "            stack.append((current_depth + 1, root.right))\n",
    "\n",
    "    return depth"
   ]
  },
  {
   "cell_type": "markdown",
   "id": "43a90b87",
   "metadata": {},
   "source": [
    "### Path Sum"
   ]
  },
  {
   "cell_type": "code",
   "execution_count": 8,
   "id": "d5b5a2d0",
   "metadata": {},
   "outputs": [],
   "source": [
    "def hasPathSum(root: TreeNode, sum: int) -> bool:\n",
    "    if not root:\n",
    "        return False\n",
    "\n",
    "    de = [(root, sum - root.val)]\n",
    "    \n",
    "    while de:\n",
    "        node, curr_sum = de.pop()\n",
    "        \n",
    "        if not node.left and not node.right and curr_sum == 0:\n",
    "            return True\n",
    "        \n",
    "        if node.right:\n",
    "            de.append((node.right, curr_sum - node.right.val))\n",
    "            \n",
    "        if node.left:\n",
    "            de.append((node.left, curr_sum - node.left.val))\n",
    "            \n",
    "    return False"
   ]
  },
  {
   "cell_type": "markdown",
   "id": "03f2ce86",
   "metadata": {},
   "source": [
    "### Symmetric Tree"
   ]
  },
  {
   "cell_type": "code",
   "execution_count": 9,
   "id": "82a542dc",
   "metadata": {},
   "outputs": [],
   "source": [
    "def isSymmetric(root):\n",
    "    q = [root, root]\n",
    "    \n",
    "    while q:\n",
    "        t1 = q.pop(0)\n",
    "        t2 = q.pop(0)\n",
    "        \n",
    "        if t1 is None and t2 is None:\n",
    "            continue\n",
    "        if t1 is None or t2 is None or t1.val != t2.val:\n",
    "            return False\n",
    "        \n",
    "        q.append(t1.left)\n",
    "        q.append(t2.right)\n",
    "        q.append(t1.right)\n",
    "        q.append(t2.left)\n",
    "        \n",
    "    return True"
   ]
  },
  {
   "cell_type": "markdown",
   "id": "5f540d5e",
   "metadata": {},
   "source": [
    "## Problems (Study These)\n",
    "### Count Univalue Subtrees"
   ]
  },
  {
   "cell_type": "code",
   "execution_count": 10,
   "id": "001e488d",
   "metadata": {},
   "outputs": [],
   "source": [
    "def countUnivalSubtrees(root: Optional[TreeNode]) -> int:\n",
    "    self.count = 0\n",
    "\n",
    "    def dfs(node):\n",
    "        if node is None:\n",
    "            return True\n",
    "\n",
    "        isLeftUniValue = dfs(node.left)\n",
    "        isRightUniValue = dfs(node.right)\n",
    "\n",
    "        # If both the children form uni-value subtrees, we compare the value of\n",
    "        # chidrens node with the node value.\n",
    "        if isLeftUniValue and isRightUniValue:\n",
    "            if node.left and node.val != node.left.val:\n",
    "                return False\n",
    "            if node.right and node.val != node.right.val:\n",
    "                return False\n",
    "\n",
    "            self.count += 1\n",
    "            \n",
    "            return True\n",
    "        \n",
    "        # Else if any of the child does not form a uni-value subtree, the subtree\n",
    "        # rooted at node cannot be a uni-value subtree.\n",
    "        return False\n",
    "\n",
    "    dfs(root)\n",
    "    \n",
    "    return self.count"
   ]
  },
  {
   "cell_type": "markdown",
   "id": "ee05a745",
   "metadata": {},
   "source": [
    "### Lowest Common Ancestor of a Binary Tree"
   ]
  },
  {
   "cell_type": "code",
   "execution_count": 11,
   "id": "7f554bb5",
   "metadata": {},
   "outputs": [],
   "source": [
    "# LCA is defined between two nodes p and q as the lowest node in T that has both p and q as descendants\n",
    "\n",
    "def lowestCommonAncestor(root: TreeNode, p: TreeNode, q: TreeNode) -> TreeNode:\n",
    "    # Stack for tree traversal\n",
    "    stack = [root]\n",
    "\n",
    "    # Dictionary for parent pointers\n",
    "    parent = {root: None}\n",
    "\n",
    "    # Iterate until we find both the nodes p and q\n",
    "    while p not in parent or q not in parent:\n",
    "\n",
    "        node = stack.pop()\n",
    "\n",
    "        # While traversing the tree, keep saving the parent pointers.\n",
    "        if node.left:\n",
    "            parent[node.left] = node\n",
    "            stack.append(node.left)\n",
    "        if node.right:\n",
    "            parent[node.right] = node\n",
    "            stack.append(node.right)\n",
    "\n",
    "    # Ancestors set() for node p.\n",
    "    ancestors = set()\n",
    "\n",
    "    # Process all ancestors for node p using parent pointers.\n",
    "    while p:\n",
    "        ancestors.add(p)\n",
    "        p = parent[p]\n",
    "\n",
    "    # The first ancestor of q which appears in\n",
    "    # p's ancestor set() is their lowest common ancestor.\n",
    "    while q not in ancestors:\n",
    "        q = parent[q]\n",
    "        \n",
    "    return q"
   ]
  },
  {
   "cell_type": "markdown",
   "id": "323580a3",
   "metadata": {},
   "source": [
    "### Serialize and Deserialize Binary Tree"
   ]
  },
  {
   "cell_type": "code",
   "execution_count": null,
   "id": "b49eaa86",
   "metadata": {},
   "outputs": [],
   "source": [
    "# Definition for a binary tree node.\n",
    "# class TreeNode(object):\n",
    "#     def __init__(self, x):\n",
    "#         self.val = x\n",
    "#         self.left = None\n",
    "#         self.right = None\n",
    "\n",
    "class Codec:\n",
    "    # def __init__():\n",
    "    #     self.result = ''\n",
    "    \n",
    "    def serialize(self, root):\n",
    "        \"\"\"Encodes a tree to a single string.\n",
    "        \n",
    "        :type root: TreeNode\n",
    "        :rtype: str\n",
    "        \"\"\"\n",
    "        if not root: return 'null'\n",
    "        result = []\n",
    "        q = deque([root])\n",
    "\n",
    "        while q:\n",
    "            node = q.popleft()\n",
    "\n",
    "            if node:\n",
    "                result.append(str(node.val))\n",
    "                q.append(node.left)\n",
    "                q.append(node.right)\n",
    "            if not node: \n",
    "                result.append('null')\n",
    "        return ','.join(result)\n",
    "\n",
    "    def deserialize(self, data):\n",
    "        \"\"\"Decodes your encoded data to tree.\n",
    "        \n",
    "        :type data: str\n",
    "        :rtype: TreeNode\n",
    "        \"\"\"\n",
    "        if data == 'null': return None\n",
    "\n",
    "        raw = data.split(',')\n",
    "        tree = TreeNode(int(raw[0]))\n",
    "\n",
    "        q = deque([tree])\n",
    "        i = 1\n",
    "\n",
    "        while q:\n",
    "            node = q.popleft()\n",
    "            if raw[i] != 'null':\n",
    "                node.left = TreeNode(int(raw[i]))\n",
    "                q.append(node.left)\n",
    "            i+=1\n",
    "\n",
    "            if raw[i] != 'null':\n",
    "                node.right = TreeNode(int(raw[i]))\n",
    "                q.append(node.right)\n",
    "            i+=1\n",
    "        return tree\n",
    "\n",
    "# Your Codec object will be instantiated and called as such:\n",
    "# ser = Codec()\n",
    "# deser = Codec()\n",
    "# ans = deser.deserialize(ser.serialize(root))"
   ]
  }
 ],
 "metadata": {
  "kernelspec": {
   "display_name": "python3.12-kernel",
   "language": "python",
   "name": "python3.12-kernel"
  },
  "language_info": {
   "codemirror_mode": {
    "name": "ipython",
    "version": 3
   },
   "file_extension": ".py",
   "mimetype": "text/x-python",
   "name": "python",
   "nbconvert_exporter": "python",
   "pygments_lexer": "ipython3",
   "version": "3.12.3"
  }
 },
 "nbformat": 4,
 "nbformat_minor": 5
}
