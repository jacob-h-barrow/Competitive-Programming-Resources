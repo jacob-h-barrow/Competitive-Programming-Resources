{
 "cells": [
  {
   "cell_type": "markdown",
   "metadata": {},
   "source": [
    "# SQL"
   ]
  },
  {
   "cell_type": "code",
   "execution_count": 4,
   "metadata": {},
   "outputs": [],
   "source": [
    "import pandas as pd\n",
    "\n",
    "from datetime import datetime"
   ]
  },
  {
   "cell_type": "code",
   "execution_count": 2,
   "metadata": {},
   "outputs": [],
   "source": [
    "def big_countries(world: pd.DataFrame) -> pd.DataFrame:\n",
    "    ans = []\n",
    "    \n",
    "    for name, continent, area, population, gdp in world.values:\n",
    "        print(area, population)\n",
    "        if area >= 3000000 or population >= 25000000:\n",
    "            ans.append((name, population, area))\n",
    "            \n",
    "    return pd.DataFrame(ans, columns=['name', 'population', 'area'])"
   ]
  },
  {
   "cell_type": "code",
   "execution_count": 3,
   "metadata": {},
   "outputs": [],
   "source": [
    "def find_products(products: pd.DataFrame) -> pd.DataFrame:\n",
    "    ans = []\n",
    "    \n",
    "    for index, row in products.iterrows():\n",
    "        if row['low_fats'] == 'Y' and row['recyclable'] == 'Y':\n",
    "            ans.append(row['product_id'])\n",
    "            \n",
    "    return pd.DataFrame(ans, columns=['product_id'])"
   ]
  },
  {
   "cell_type": "code",
   "execution_count": null,
   "metadata": {},
   "outputs": [],
   "source": [
    "def find_customer_referee(customer: pd.DataFrame) -> pd.DataFrame:\n",
    "    ans = []\n",
    "    columns = ['name']\n",
    "    \n",
    "    for index, row in customer.iterrows():\n",
    "        if not pd.isna(row['referee_id']) and row['referee_id'] == 2:\n",
    "            continue\n",
    "            \n",
    "        ans.append(row['name'])\n",
    "            \n",
    "    return pd.DataFrame(ans, columns=columns)"
   ]
  },
  {
   "cell_type": "code",
   "execution_count": 5,
   "metadata": {},
   "outputs": [],
   "source": [
    "def daily_leads_and_partners(daily_sales: pd.DataFrame) -> pd.DataFrame:\n",
    "    ans = {}\n",
    "    columns = ['date_id', 'make_name', 'unique_leads', 'unique_partners']\n",
    "    \n",
    "    for date_id, name, lead_id, partner_id in daily_sales.values:\n",
    "        new_name = f'{date_id.strftime(\"%Y-%m-%d\")}_{name}'\n",
    "        \n",
    "        if new_name in ans:\n",
    "            ans[new_name][0].add(lead_id)\n",
    "            ans[new_name][1].add(partner_id)\n",
    "        else:\n",
    "            ans[new_name] = [{lead_id}, {partner_id}]\n",
    "        \n",
    "    solution = []\n",
    "    \n",
    "    for key, val in ans.items():\n",
    "        date, name = key.split('_')\n",
    "        \n",
    "        solution.append((date, name, len(val[0]), len(val[1])))\n",
    "        \n",
    "    return pd.DataFrame(solution, columns=columns)"
   ]
  },
  {
   "cell_type": "code",
   "execution_count": 6,
   "metadata": {},
   "outputs": [],
   "source": [
    "def count_followers(followers: pd.DataFrame) -> pd.DataFrame:\n",
    "    ans = {}\n",
    "    columns = ['user_id', 'followers_count']\n",
    "    \n",
    "    for user_id, follower_id in followers.values:\n",
    "        ans[user_id] = ans.get(user_id, 0) + 1\n",
    "        \n",
    "    return pd.DataFrame(sorted(list(ans.items())), columns=columns)"
   ]
  },
  {
   "cell_type": "markdown",
   "metadata": {},
   "source": []
  }
 ],
 "metadata": {
  "kernelspec": {
   "display_name": "Python 3",
   "language": "python",
   "name": "python3"
  },
  "language_info": {
   "codemirror_mode": {
    "name": "ipython",
    "version": 3
   },
   "file_extension": ".py",
   "mimetype": "text/x-python",
   "name": "python",
   "nbconvert_exporter": "python",
   "pygments_lexer": "ipython3",
   "version": "3.12.3"
  }
 },
 "nbformat": 4,
 "nbformat_minor": 2
}
