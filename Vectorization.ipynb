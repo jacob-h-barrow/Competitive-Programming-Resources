{
 "cells": [
  {
   "cell_type": "markdown",
   "id": "88850c69",
   "metadata": {},
   "source": [
    "# Understanding GPU/Vectorized Computing\n",
    "- Numba is an open-source just-in-time (JIT) compiler\n",
    "    - Translates optimized machine code using LLVM\n",
    "    - You can specify which funciton sand blocks of code you want to be compiled at runtime\n",
    "    - JIT has no guarantee of faster code; overhead to compile, subsequent calls are faster!\n",
    "    - Common Numba decorators\n",
    "        - @jit -> lazy compilation: second function call uses the already optimized machine code\n",
    "            - General purpose decorator that optimizes different functions\n",
    "        - @vectorize -> eager compilation: compiled at decoration\n",
    "            - Allows functions to operate on arrays as if they are using scalars\n",
    "    - Use the nopython=True option to leverage primitive-optimized code that doesn't need the Python interpreter\n",
    "- f-string formatting\n",
    "    - g causes (among other things) insignificant trailing zeros [to be] removed from the significand, and the decimal point is also removed if there are no remaining digits following it."
   ]
  },
  {
   "cell_type": "code",
   "execution_count": 1,
   "id": "78679f85",
   "metadata": {},
   "outputs": [],
   "source": [
    "import math\n",
    "import numpy as np\n",
    "\n",
    "from numpy.random import default_rng\n",
    "from time import time\n",
    "from numba import jit, vectorize, double, int64, uint8, boolean"
   ]
  },
  {
   "cell_type": "code",
   "execution_count": 2,
   "id": "ea1c52f5",
   "metadata": {},
   "outputs": [],
   "source": [
    "def timeit(func):\n",
    "    def inner(*args, **kwargs):\n",
    "        start_time = time()\n",
    "        result = func(*args, **kwargs)\n",
    "        timed = time() - start_time\n",
    "        fractional_portion = str(timed).split('.')[1]\n",
    "        length = len(fractional_portion)\n",
    "        \n",
    "        ptr = 0\n",
    "        count = 0\n",
    "        \n",
    "        while ptr < length:\n",
    "            if fractional_portion[ptr] == '0':\n",
    "                count += 1\n",
    "                ptr += 1\n",
    "            else:\n",
    "                ptr = length\n",
    "                \n",
    "        if count == 1:\n",
    "            print('It was so fast that we couldn\\'t record it. Time goes to the 18th fractional point (exa)')\n",
    "        elif count <= 3:\n",
    "            print(f'Timed at {timed * 10**3:g} milliseconds')\n",
    "        elif count <= 6:\n",
    "            print(f'Timed at {timed * 10**6:g} microseconds')\n",
    "        elif count <= 9:\n",
    "            print(f'Timed at {timed * 10**9:g} nanoseconds')\n",
    "        elif count <= 12:\n",
    "            print(f'Timed at {timed * 10**12:g} picoseconds')\n",
    "        else:\n",
    "            print(f'Time at {timed * 10**15:g} attosecons')\n",
    "        \n",
    "        return result\n",
    "    return inner"
   ]
  },
  {
   "cell_type": "code",
   "execution_count": 3,
   "id": "1c97c3c4",
   "metadata": {},
   "outputs": [
    {
     "name": "stdout",
     "output_type": "stream",
     "text": [
      "Timed at 414.232 milliseconds\n"
     ]
    },
    {
     "data": {
      "text/plain": [
       "22.360679774997898"
      ]
     },
     "execution_count": 3,
     "metadata": {},
     "output_type": "execute_result"
    }
   ],
   "source": [
    "@timeit\n",
    "@jit\n",
    "def euclidean_distance_pt(a, b):\n",
    "    return math.sqrt(a**2 + b**2)\n",
    "\n",
    "euclidean_distance_pt(10, 20)"
   ]
  },
  {
   "cell_type": "code",
   "execution_count": 4,
   "id": "ff939af7",
   "metadata": {},
   "outputs": [
    {
     "name": "stdout",
     "output_type": "stream",
     "text": [
      "It was so fast that we couldn't record it. Time goes to the 18th fractional point (exa)\n"
     ]
    },
    {
     "data": {
      "text/plain": [
       "22.360679774997898"
      ]
     },
     "execution_count": 4,
     "metadata": {},
     "output_type": "execute_result"
    }
   ],
   "source": [
    "euclidean_distance_pt(10, 20)"
   ]
  },
  {
   "cell_type": "code",
   "execution_count": 5,
   "id": "d2cf76de",
   "metadata": {},
   "outputs": [],
   "source": [
    "# @vectorize([uint8(uint8, uint8, uint8, boolean)])\n",
    "@timeit\n",
    "def simple_encode(pixel_value, field_norm, nonce, add_value):\n",
    "    return (pixel_value + nonce) // field_norm if add_value else (pixel_value - nonce) // field_norm\n",
    "\n",
    "encode = np.vectorize(simple_encode)"
   ]
  },
  {
   "cell_type": "code",
   "execution_count": 7,
   "id": "1cd9001c",
   "metadata": {},
   "outputs": [],
   "source": [
    "rng = default_rng()\n",
    "\n",
    "nonce = np.uint8(17)\n",
    "field_norm = np.uint8(rng.random()+1)\n",
    "add_nonce = True"
   ]
  },
  {
   "cell_type": "code",
   "execution_count": 8,
   "id": "80195f1d",
   "metadata": {},
   "outputs": [],
   "source": [
    "img = np.array([157, 203, 110], dtype=np.uint8)\n",
    "img2 = np.uint8(rng.integers(low=0, high=255, size=3))"
   ]
  },
  {
   "cell_type": "code",
   "execution_count": 9,
   "id": "95b1b7f2",
   "metadata": {},
   "outputs": [
    {
     "name": "stdout",
     "output_type": "stream",
     "text": [
      "Timed at 1.00064 milliseconds\n",
      "It was so fast that we couldn't record it. Time goes to the 18th fractional point (exa)\n",
      "It was so fast that we couldn't record it. Time goes to the 18th fractional point (exa)\n",
      "It was so fast that we couldn't record it. Time goes to the 18th fractional point (exa)\n"
     ]
    },
    {
     "data": {
      "text/plain": [
       "array([165, 213, 114], dtype=uint8)"
      ]
     },
     "execution_count": 9,
     "metadata": {},
     "output_type": "execute_result"
    }
   ],
   "source": [
    "encode(img2, field_norm, nonce, add_nonce)"
   ]
  },
  {
   "cell_type": "code",
   "execution_count": 10,
   "id": "351d7a89",
   "metadata": {},
   "outputs": [],
   "source": [
    "@timeit\n",
    "@jit(nopython=True)\n",
    "def matrix_sum(matrix):\n",
    "    total = 0.0\n",
    "    \n",
    "    for i in range(matrix.shape[0]):\n",
    "        for j in range(matrix.shape[1]):\n",
    "            total += matrix[i, j]\n",
    "            \n",
    "    return total"
   ]
  },
  {
   "cell_type": "code",
   "execution_count": 11,
   "id": "fcf315a4",
   "metadata": {},
   "outputs": [
    {
     "name": "stdout",
     "output_type": "stream",
     "text": [
      "It was so fast that we couldn't record it. Time goes to the 18th fractional point (exa)\n"
     ]
    },
    {
     "data": {
      "text/plain": [
       "1953093750.0"
      ]
     },
     "execution_count": 11,
     "metadata": {},
     "output_type": "execute_result"
    }
   ],
   "source": [
    "matrix = np.arange(62500).reshape(250, 250)\n",
    "\n",
    "matrix_sum(matrix)"
   ]
  },
  {
   "cell_type": "code",
   "execution_count": 15,
   "id": "ce4022e6",
   "metadata": {},
   "outputs": [],
   "source": [
    "import numpy as np\n",
    "import sys\n",
    "from cupy import prof\n",
    "from scipy import signal\n",
    "import cupy as cp\n",
    "from numba import cuda\n",
    "from cupyx.scipy import sparse\n",
    "from cupyx.profiler import time_range"
   ]
  },
  {
   "cell_type": "code",
   "execution_count": 13,
   "id": "3bf63590",
   "metadata": {},
   "outputs": [],
   "source": [
    "@cuda.reduce\n",
    "def sum_reduce(a, b):\n",
    "    return a + b\n",
    "\n",
    "@cuda.jit\n",
    "def numba_l2_norm(x):\n",
    "    start = cuda.grid(1)\n",
    "    stride = cuda.gridsize(1)\n",
    "\n",
    "    for i in range(start, x.shape[0], stride):\n",
    "        x[i] = x[i] * x[i]"
   ]
  },
  {
   "cell_type": "code",
   "execution_count": 17,
   "id": "ffa60ca3",
   "metadata": {},
   "outputs": [
    {
     "name": "stdout",
     "output_type": "stream",
     "text": [
      "591.0258758041766\n"
     ]
    }
   ],
   "source": [
    "loops = 5\n",
    "x = cp.random.random(2 ** 20)\n",
    "\n",
    "threads_per_block = 64\n",
    "blocks_per_grid = 16\n",
    "\n",
    "with time_range('numba', 0): # prof.time_range('numba', 0):\n",
    "    numba_l2_norm[blocks_per_grid, threads_per_block](x)\n",
    "    output = np.sqrt(sum_reduce(x))\n",
    "    print(output)"
   ]
  },
  {
   "cell_type": "code",
   "execution_count": 24,
   "id": "87e3de27",
   "metadata": {},
   "outputs": [
    {
     "data": {
      "text/plain": [
       "'Working with Python version 3.10.9'"
      ]
     },
     "execution_count": 24,
     "metadata": {},
     "output_type": "execute_result"
    }
   ],
   "source": [
    "import sys\n",
    "\n",
    "def get_python_version():\n",
    "    version = sys.version_info\n",
    "    \n",
    "    return f'Working with Python version {version.major}.{version.minor}.{version.micro}'\n",
    "\n",
    "get_python_version()"
   ]
  },
  {
   "cell_type": "code",
   "execution_count": null,
   "id": "23574d69",
   "metadata": {},
   "outputs": [],
   "source": []
  }
 ],
 "metadata": {
  "kernelspec": {
   "display_name": "Python 3 (ipykernel)",
   "language": "python",
   "name": "python3"
  },
  "language_info": {
   "codemirror_mode": {
    "name": "ipython",
    "version": 3
   },
   "file_extension": ".py",
   "mimetype": "text/x-python",
   "name": "python",
   "nbconvert_exporter": "python",
   "pygments_lexer": "ipython3",
   "version": "3.10.9"
  }
 },
 "nbformat": 4,
 "nbformat_minor": 5
}
