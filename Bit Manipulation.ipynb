{
 "cells": [
  {
   "cell_type": "markdown",
   "id": "0c425f2f",
   "metadata": {},
   "source": [
    "# Bit Manipulation Review\n",
    "- Operations\n",
    "    1. AND: &\n",
    "    2. OR: |\n",
    "    3. XOR: ^\n",
    "    4. Negation: ~\n",
    "    5. Left shift: <<\n",
    "        - All lower bits are filled with 0\n",
    "        - Corresponds to multiplication: 2 ** k\n",
    "            - When the multiplier is not an integer power of 2, the multiple can be split inot the sum of the integer powers of 2. Ex: a x 6 is equivalent to (a << 2) + (a << 1)\n",
    "    6. Right shift: >>\n",
    "        - Arithmetically: high bits are filled with the highest bit\n",
    "        - Logically: high bits are filled with 0\n",
    "        - Corresponds to division: Num / (2 ** k) rounded down\n",
    "            - Ex: right shifting 50 by 2 results in 12. floor(50 / 4)\n",
    "- Important Properties\n",
    "    - De Morgan's Law: ~ (a&b) = (~a) | (~b); ~ (a|b) = (~a) & (~b)\n",
    "    - Negative Operation: -1 = ~0; -a = ~(a-1)\n",
    "    - OR Operaton: a | (~a) = -1\n",
    "    - Change last bit to 0: a & (a-1)\n",
    "    - Keep only the last 1 bit: a & (-a)"
   ]
  },
  {
   "cell_type": "markdown",
   "id": "a41be5cf",
   "metadata": {},
   "source": [
    "## Convert To Base7"
   ]
  },
  {
   "cell_type": "code",
   "execution_count": null,
   "id": "18dd69b6",
   "metadata": {},
   "outputs": [],
   "source": [
    "def convert_base(num: int, base: int = 7) -> str:\n",
    "    if num == '0':\n",
    "        return '0'\n",
    "    \n",
    "    l = []\n",
    "    sign = 1 if num >= 0 else -1\n",
    "    num = abs(num)\n",
    "    \n",
    "    while num > 0:\n",
    "        l.append(str(num % base))\n",
    "        num //= base\n",
    "        \n",
    "    result = ''.join(reversed(l))\n",
    "    \n",
    "    return '-' + result if sign == -1 else result"
   ]
  },
  {
   "cell_type": "markdown",
   "id": "15226071",
   "metadata": {},
   "source": [
    "## Hamming Weight\n",
    "- Number of 1s"
   ]
  },
  {
   "cell_type": "code",
   "execution_count": 1,
   "id": "73f067a9",
   "metadata": {},
   "outputs": [],
   "source": [
    "def hamming_weight(n: int) -> int:\n",
    "    cnt = 0\n",
    "    \n",
    "    while n > 0:\n",
    "        if n % 2:\n",
    "            cnt += 1\n",
    "        \n",
    "        n //= 2\n",
    "        \n",
    "    return cnt"
   ]
  },
  {
   "cell_type": "markdown",
   "id": "ce76ed39",
   "metadata": {},
   "source": [
    "## Reverse Bits"
   ]
  },
  {
   "cell_type": "code",
   "execution_count": null,
   "id": "7a7c722f",
   "metadata": {},
   "outputs": [],
   "source": [
    "def reverse_bits(n: int) -> int:\n",
    "    ret, power = 0, 31\n",
    "    \n",
    "    while n:\n",
    "        ret += (n & 1) << power\n",
    "        \n",
    "        n >>= 1\n",
    "        power -= 1\n",
    "        \n",
    "    return ret"
   ]
  },
  {
   "cell_type": "markdown",
   "id": "9b8a0049",
   "metadata": {},
   "source": [
    "## Bitwise AND of Numbers Range\n",
    "- Given two integers left and right that represent the range [left, right], return the bitwise AND of all numbers in this range, inclusive."
   ]
  },
  {
   "cell_type": "code",
   "execution_count": 1,
   "id": "2ce7a3a7",
   "metadata": {},
   "outputs": [],
   "source": [
    "def rangeBitwiseAnd(self, m: int, n: int) -> int:\n",
    "    shift = 0\n",
    "    # find the common 1-bits\n",
    "    while m < n:\n",
    "        m = m >> 1\n",
    "        n = n >> 1\n",
    "        shift += 1\n",
    "        \n",
    "    return m << shift"
   ]
  }
 ],
 "metadata": {
  "kernelspec": {
   "display_name": "Python 3",
   "language": "python",
   "name": "python3"
  },
  "language_info": {
   "codemirror_mode": {
    "name": "ipython",
    "version": 3
   },
   "file_extension": ".py",
   "mimetype": "text/x-python",
   "name": "python",
   "nbconvert_exporter": "python",
   "pygments_lexer": "ipython3",
   "version": "3.12.3"
  }
 },
 "nbformat": 4,
 "nbformat_minor": 5
}
